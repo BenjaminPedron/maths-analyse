{
 "cells": [
  {
   "cell_type": "code",
   "execution_count": 3,
   "metadata": {},
   "outputs": [],
   "source": [
    "from pandas import *\n",
    "from numpy import *\n",
    "from numpy.linalg import * # utile pour l'inversion de matrice et la diagonalisation\n",
    "from matplotlib.pylab import *\n"
   ]
  },
  {
   "cell_type": "markdown",
   "metadata": {},
   "source": [
    "# Exercice 1 : diagonalisation"
   ]
  },
  {
   "cell_type": "markdown",
   "metadata": {},
   "source": [
    "On considère la matrice\n",
    "\\begin{align*}\n",
    "A=\\begin{pmatrix}\n",
    "1 & -7 & -2\\\\\n",
    "-7 & 1 & 2\\\\\n",
    "-2 & 2 & 10\n",
    "\\end{pmatrix}.\n",
    "\\end{align*}\n",
    "\n",
    "**Question 1.** Diagonaliser la matrice avec la commande `eigh` (eigenvalue signifie valeur propre en anglais) qui renvoie les valeurs propres (à stocker dans un vecteur `val`) et les vecteurs propres (à stocker dans une matrice `P`). Afficher `val`et `P`.\n",
    "\n"
   ]
  },
  {
   "cell_type": "code",
   "execution_count": 4,
   "metadata": {},
   "outputs": [
    {
     "output_type": "stream",
     "name": "stdout",
     "text": [
      "Valeurs propres de A :  [-6.  6. 12.]\nMatrice contenant en colonnes les vecteurs propres de A \n [[-0.71  0.58 -0.41]\n [-0.71 -0.58  0.41]\n [ 0.    0.58  0.82]]\n"
     ]
    }
   ],
   "source": [
    "A=array([[1,-7,-2],[-7,1,2],[-2,2,10]])\n",
    "val, P = eigh(A)\n",
    "print(\"Valeurs propres de A : \", val)\n",
    "print(\"Matrice contenant en colonnes les vecteurs propres de A \\n\", around(P, 2))"
   ]
  },
  {
   "cell_type": "markdown",
   "metadata": {},
   "source": [
    "**Question 2.** Vérifier que les matrices obtenues constituent bien une diagonalisation de A et que la base des vecteurs propres est bien orthonormée, comme dans le théorème page 5 du poly."
   ]
  },
  {
   "cell_type": "code",
   "execution_count": 5,
   "metadata": {},
   "outputs": [
    {
     "output_type": "stream",
     "name": "stdout",
     "text": [
      "Inverse de P = transposée de P : \n [[ True  True  True]\n [ True  True  True]\n [ True  True  True]]\nD contient les valeurs propre à P sur sa diagonale :\n [[-6.  0.  0.]\n [ 0.  6.  0.]\n [ 0.  0. 12.]]\nP*D*P^(-1) = matrice de départ :\n [[ True  True  True]\n [ True  True  True]\n [ True  True  True]]\n"
     ]
    }
   ],
   "source": [
    "# A vérifier : \n",
    "# - P est inversible et (inverse de P = transposée de P)\n",
    "Pinv = inv(P)\n",
    "print(\"Inverse de P = transposée de P : \\n\", around(Pinv) == around(P.T))\n",
    "# - D est diagonale avec les valeurs propres sur la diagonale (pas vraiment une vérification, mais on en a besoin pour la suite)\n",
    "D = diag(val)\n",
    "print(\"D contient les valeurs propre à P sur sa diagonale :\\n\", D)\n",
    "# - P*D*P^(-1) = matrice de départ\n",
    "print(\"P*D*P^(-1) = matrice de départ :\\n\", around(A) == around(dot(dot(P, D),inv(P))))\n"
   ]
  },
  {
   "cell_type": "markdown",
   "metadata": {},
   "source": [
    "**Question 3.** On fournit ci-dessous les instructions pour définir un nouveau vecteur appelé `val2` contenant les valeurs propres du vecteur `val` rangées en ordre décroissant et adapter la matrice de changement de base en une nouvelle matrice `P2` de sorte à obtenir une nouvelle diagonalisation de $A$.\n",
    "\n",
    "Afficher val2 et `P2` pour bien comprendre ce qui fournissent les instructions. Vérifier que $^t\\!P2=(P2)^{-1}$ et que $A=P2\\,diag(val2)\\,(P2)^{-1}$."
   ]
  },
  {
   "cell_type": "code",
   "execution_count": 6,
   "metadata": {},
   "outputs": [
    {
     "output_type": "stream",
     "name": "stdout",
     "text": [
      "Indices ordonnés :\n[0 1 2] --> [2 1 0] \n\nValeurs propres ordonnés :\n[-6.  6. 12.] --> [12.  6. -6.] \n\nVecteurs propres ordonnés :\n[-0.71  0.58 -0.41] --> [-0.41  0.58 -0.71]\n[-0.71 -0.58  0.41] --> [ 0.41 -0.58 -0.71]\n[0.   0.58 0.82]    --> [0.82 0.58 0.  ]\n"
     ]
    }
   ],
   "source": [
    "ind = argsort(val)[::-1] # indices de val ordonnées de manière décroissante\n",
    "val2 = sort(val)[::-1] # valeurs propres ordonnées de manière décroissante\n",
    "P2 = zeros((3,3))\n",
    "for i in range(3):\n",
    "    P2[:,i]=P[:,ind[i]]\n",
    "# Affichage et vérification\n",
    "print(\"Indices ordonnés :\")\n",
    "print(argsort(val), \"-->\", ind, '\\n')\n",
    "print(\"Valeurs propres ordonnés :\")\n",
    "print(val, \"-->\", val2, '\\n')\n",
    "print(\"Vecteurs propres ordonnés :\")\n",
    "print(around(P[0,:], 2), \"-->\", around(P2[0,:], 2))\n",
    "print(around(P[1,:], 2), \"-->\", around(P2[1,:], 2))\n",
    "print(around(P[2,:], 2), \"   -->\", around(P2[2,:], 2))"
   ]
  },
  {
   "cell_type": "markdown",
   "metadata": {},
   "source": [
    "**Question 4.** En utilisant la commande `trace`, calculer la trace de $A$ et vérifier que $\\mathrm{tr}(A) = \\lambda_1 +\\lambda_2+\\lambda_3$."
   ]
  },
  {
   "cell_type": "code",
   "execution_count": 7,
   "metadata": {},
   "outputs": [
    {
     "output_type": "stream",
     "name": "stdout",
     "text": [
      "Trace de A ( 12 ) = Somme des valeurs propres ( 12.0 ) : True\n"
     ]
    }
   ],
   "source": [
    "print(\"Trace de A (\", trace(A), \")\", \"= Somme des valeurs propres (\", sum(val), ')', ':', trace(A) == sum(val))"
   ]
  },
  {
   "cell_type": "markdown",
   "metadata": {},
   "source": [
    "## Exercice 2 : ACP sur les données \"jouet\""
   ]
  },
  {
   "cell_type": "markdown",
   "metadata": {},
   "source": [
    "**1.** Reprendre les données \"jouet\" définies lors du TP précédent et recalculer la matrice de corrélation."
   ]
  },
  {
   "cell_type": "code",
   "execution_count": 8,
   "metadata": {},
   "outputs": [
    {
     "output_type": "stream",
     "name": "stdout",
     "text": [
      "Données de départ :\n[[12 16 14]\n [14 13 15]\n [ 8 11  8]\n [10  9  6]\n [16  6 17]] \n\nDonnées centrées et réduites : \n [[ 0.    1.47  0.47]\n [ 0.71  0.59  0.71]\n [-1.41  0.   -0.94]\n [-0.71 -0.59 -1.41]\n [ 1.41 -1.47  1.18]] \n\nMatrice de corrélation : \n [[ 1.   -0.25  0.9 ]\n [-0.25  1.    0.04]\n [ 0.9   0.04  1.  ]]\n"
     ]
    }
   ],
   "source": [
    "X = array([[12, 16, 14], [14, 13, 15], [8, 11, 8], [10, 9, 6], [16, 6, 17]])\n",
    "print(\"Données de départ :\")\n",
    "print(X, '\\n')\n",
    "\n",
    "Z = zeros((5,3))\n",
    "for j in range(3) :\n",
    "    Z[:,j] = (X[:,j] - mean(X[:,j])) / sqrt(var(X[:,j]))\n",
    "    R = 1/5 * dot(Z.T, Z), 2\n",
    "print(\"Données centrées et réduites : \\n\", around(Z, 2), '\\n')\n",
    "\n",
    "R = 1/5 * dot(Z.T, Z)\n",
    "print(\"Matrice de corrélation : \\n\", around(R, 2))"
   ]
  },
  {
   "cell_type": "markdown",
   "metadata": {},
   "source": [
    "**2.** Diagonaliser la matrice de corrélation, puis réordonner les valeurs propres en ordre décroissant et réordonner les vecteurs propres associés. Afficher les résultats et effectuer les vérifications nécessaires."
   ]
  },
  {
   "cell_type": "code",
   "execution_count": 10,
   "metadata": {},
   "outputs": [
    {
     "output_type": "stream",
     "name": "stdout",
     "text": [
      "Valeurs propres de R : \n [0.05 1.02 1.92] \n\nSomme des valeurs propres (egal à p, le nombre de variables) : \n 3.0 \n\nMatrice contenant en colonnes les vecteurs propres de X \n [[ 0.7  -0.04  0.71]\n [ 0.21  0.96 -0.16]\n [-0.68  0.27  0.68]] \n\nIndices ordonnés :\n[0 1 2] --> [2 1 0] \n\nValeurs propres ordonnés :\n[0.05475274 1.02132127 1.92392599] --> [1.92392599 1.02132127 0.05475274] \n\nVecteurs propres ordonnés :\n[ 0.7  -0.04  0.71] --> [ 0.71 -0.04  0.7 ]\n[ 0.21  0.96 -0.16] --> [-0.16  0.96  0.21]\n[-0.68  0.27  0.68] --> [ 0.68  0.27 -0.68]\n0.0\n"
     ]
    }
   ],
   "source": [
    "val, P = eigh(R)\n",
    "print(\"Valeurs propres de R : \\n\", around(val, 2), '\\n')\n",
    "print(\"Somme des valeurs propres (egal à p, le nombre de variables) : \\n\", around(sum(val), 2), '\\n')\n",
    "print(\"Matrice contenant en colonnes les vecteurs propres de X \\n\", around(P, 2), '\\n')\n",
    "\n",
    "ind = argsort(val)[::-1] # indices de val ordonnées de manière décroissante\n",
    "val2 = sort(val)[::-1] # valeurs propres ordonnées de manière décroissante\n",
    "Pord = zeros((3,3))\n",
    "for i in range(3):\n",
    "    Pord[:,i] = P[:,ind[i]]\n",
    "# Affichage et vérification\n",
    "print(\"Indices ordonnés :\")\n",
    "print(argsort(val), \"-->\", ind, '\\n')\n",
    "print(\"Valeurs propres ordonnés :\")\n",
    "print(val, \"-->\", val2, '\\n')\n",
    "print(\"Vecteurs propres ordonnés :\")\n",
    "print(around(P[0,:], 2), \"-->\", around(Pord[0,:], 2))\n",
    "print(around(P[1,:], 2), \"-->\", around(Pord[1,:], 2))\n",
    "print(around(P[2,:], 2), \"-->\", around(Pord[2,:], 2))\n",
    "\n",
    "print(mean(Z[:,0]))"
   ]
  },
  {
   "cell_type": "markdown",
   "metadata": {},
   "source": [
    "**3.** Calculer les coordonnées en composantes principales de Alice."
   ]
  },
  {
   "cell_type": "code",
   "execution_count": 91,
   "metadata": {},
   "outputs": [
    {
     "output_type": "stream",
     "name": "stdout",
     "text": [
      "Coordonnées initiales d'Alice :\n [12 16 14] \n\nCoordonnées centrées réduites d'Alice :\n [0.   1.47 0.47] \n\nCoordonnées en composantes principales de Alice :\n [ 0.09  1.54 -0.  ]\n"
     ]
    }
   ],
   "source": [
    "CP_ALICE = dot(Z[0,:], Pord)\n",
    "print(\"Coordonnées initiales d'Alice :\\n\", X[0,:], '\\n')\n",
    "print(\"Coordonnées centrées réduites d'Alice :\\n\", around(Z[0,:], 2), '\\n')\n",
    "print(\"Coordonnées en composantes principales de Alice :\\n\", around(CP_ALICE, 2))"
   ]
  },
  {
   "cell_type": "markdown",
   "metadata": {},
   "source": [
    "**4.** Calculer les coordonnées de chaque étudiant dans le plan principal."
   ]
  },
  {
   "cell_type": "code",
   "execution_count": 116,
   "metadata": {},
   "outputs": [
    {
     "output_type": "stream",
     "name": "stdout",
     "text": [
      "Matrice des composantes principales :\n [[ 0.09  1.54 -0.  ]\n [ 0.89  0.73  0.14]\n [-1.65 -0.2  -0.35]\n [-1.38 -0.91  0.34]\n [ 2.05 -1.15 -0.12]] \n\nC1 :  [ 0.09  0.89 -1.65 -1.38  2.05] \n\nC2 :  [ 1.54  0.73 -0.2  -0.91 -1.15] \n\n"
     ]
    },
    {
     "output_type": "display_data",
     "data": {
      "text/plain": "<Figure size 432x288 with 1 Axes>",
      "image/svg+xml": "<?xml version=\"1.0\" encoding=\"utf-8\" standalone=\"no\"?>\r\n<!DOCTYPE svg PUBLIC \"-//W3C//DTD SVG 1.1//EN\"\r\n  \"http://www.w3.org/Graphics/SVG/1.1/DTD/svg11.dtd\">\r\n<svg height=\"248.518125pt\" version=\"1.1\" viewBox=\"0 0 380.482812 248.518125\" width=\"380.482812pt\" xmlns=\"http://www.w3.org/2000/svg\" xmlns:xlink=\"http://www.w3.org/1999/xlink\">\r\n <metadata>\r\n  <rdf:RDF xmlns:cc=\"http://creativecommons.org/ns#\" xmlns:dc=\"http://purl.org/dc/elements/1.1/\" xmlns:rdf=\"http://www.w3.org/1999/02/22-rdf-syntax-ns#\">\r\n   <cc:Work>\r\n    <dc:type rdf:resource=\"http://purl.org/dc/dcmitype/StillImage\"/>\r\n    <dc:date>2021-04-01T12:13:52.245327</dc:date>\r\n    <dc:format>image/svg+xml</dc:format>\r\n    <dc:creator>\r\n     <cc:Agent>\r\n      <dc:title>Matplotlib v3.4.0, https://matplotlib.org/</dc:title>\r\n     </cc:Agent>\r\n    </dc:creator>\r\n   </cc:Work>\r\n  </rdf:RDF>\r\n </metadata>\r\n <defs>\r\n  <style type=\"text/css\">*{stroke-linecap:butt;stroke-linejoin:round;}</style>\r\n </defs>\r\n <g id=\"figure_1\">\r\n  <g id=\"patch_1\">\r\n   <path d=\"M -0 248.518125 \r\nL 380.482812 248.518125 \r\nL 380.482812 0 \r\nL -0 0 \r\nz\r\n\" style=\"fill:none;\"/>\r\n  </g>\r\n  <g id=\"axes_1\">\r\n   <g id=\"patch_2\">\r\n    <path d=\"M 38.482813 224.64 \r\nL 373.282813 224.64 \r\nL 373.282813 7.2 \r\nL 38.482813 7.2 \r\nz\r\n\" style=\"fill:#ffffff;\"/>\r\n   </g>\r\n   <g id=\"PathCollection_1\">\r\n    <defs>\r\n     <path d=\"M 0 3 \r\nC 0.795609 3 1.55874 2.683901 2.12132 2.12132 \r\nC 2.683901 1.55874 3 0.795609 3 0 \r\nC 3 -0.795609 2.683901 -1.55874 2.12132 -2.12132 \r\nC 1.55874 -2.683901 0.795609 -3 0 -3 \r\nC -0.795609 -3 -1.55874 -2.683901 -2.12132 -2.12132 \r\nC -2.683901 -1.55874 -3 -0.795609 -3 0 \r\nC -3 0.795609 -2.683901 1.55874 -2.12132 2.12132 \r\nC -1.55874 2.683901 -0.795609 3 0 3 \r\nz\r\n\" id=\"m0e89cd2787\" style=\"stroke:#1f77b4;\"/>\r\n    </defs>\r\n    <g clip-path=\"url(#p57c13b6574)\">\r\n     <use style=\"fill:#1f77b4;stroke:#1f77b4;\" x=\"196.668452\" xlink:href=\"#m0e89cd2787\" y=\"17.083636\"/>\r\n     <use style=\"fill:#1f77b4;stroke:#1f77b4;\" x=\"262.953452\" xlink:href=\"#m0e89cd2787\" y=\"76.717488\"/>\r\n     <use style=\"fill:#1f77b4;stroke:#1f77b4;\" x=\"53.700994\" xlink:href=\"#m0e89cd2787\" y=\"144.449462\"/>\r\n     <use style=\"fill:#1f77b4;stroke:#1f77b4;\" x=\"76.247453\" xlink:href=\"#m0e89cd2787\" y=\"197.11972\"/>\r\n     <use style=\"fill:#1f77b4;stroke:#1f77b4;\" x=\"358.064631\" xlink:href=\"#m0e89cd2787\" y=\"214.756364\"/>\r\n    </g>\r\n   </g>\r\n   <g id=\"matplotlib.axis_1\">\r\n    <g id=\"xtick_1\">\r\n     <g id=\"line2d_1\">\r\n      <defs>\r\n       <path d=\"M 0 0 \r\nL 0 3.5 \r\n\" id=\"mf52075be00\" style=\"stroke:#000000;stroke-width:0.8;\"/>\r\n      </defs>\r\n      <g>\r\n       <use style=\"stroke:#000000;stroke-width:0.8;\" x=\"66.10372\" xlink:href=\"#mf52075be00\" y=\"224.64\"/>\r\n      </g>\r\n     </g>\r\n     <g id=\"text_1\">\r\n      <!-- −1.5 -->\r\n      <g transform=\"translate(53.962314 239.238437)scale(0.1 -0.1)\">\r\n       <defs>\r\n        <path d=\"M 678 2272 \r\nL 4684 2272 \r\nL 4684 1741 \r\nL 678 1741 \r\nL 678 2272 \r\nz\r\n\" id=\"DejaVuSans-2212\" transform=\"scale(0.015625)\"/>\r\n        <path d=\"M 794 531 \r\nL 1825 531 \r\nL 1825 4091 \r\nL 703 3866 \r\nL 703 4441 \r\nL 1819 4666 \r\nL 2450 4666 \r\nL 2450 531 \r\nL 3481 531 \r\nL 3481 0 \r\nL 794 0 \r\nL 794 531 \r\nz\r\n\" id=\"DejaVuSans-31\" transform=\"scale(0.015625)\"/>\r\n        <path d=\"M 684 794 \r\nL 1344 794 \r\nL 1344 0 \r\nL 684 0 \r\nL 684 794 \r\nz\r\n\" id=\"DejaVuSans-2e\" transform=\"scale(0.015625)\"/>\r\n        <path d=\"M 691 4666 \r\nL 3169 4666 \r\nL 3169 4134 \r\nL 1269 4134 \r\nL 1269 2991 \r\nQ 1406 3038 1543 3061 \r\nQ 1681 3084 1819 3084 \r\nQ 2600 3084 3056 2656 \r\nQ 3513 2228 3513 1497 \r\nQ 3513 744 3044 326 \r\nQ 2575 -91 1722 -91 \r\nQ 1428 -91 1123 -41 \r\nQ 819 9 494 109 \r\nL 494 744 \r\nQ 775 591 1075 516 \r\nQ 1375 441 1709 441 \r\nQ 2250 441 2565 725 \r\nQ 2881 1009 2881 1497 \r\nQ 2881 1984 2565 2268 \r\nQ 2250 2553 1709 2553 \r\nQ 1456 2553 1204 2497 \r\nQ 953 2441 691 2322 \r\nL 691 4666 \r\nz\r\n\" id=\"DejaVuSans-35\" transform=\"scale(0.015625)\"/>\r\n       </defs>\r\n       <use xlink:href=\"#DejaVuSans-2212\"/>\r\n       <use x=\"83.789062\" xlink:href=\"#DejaVuSans-31\"/>\r\n       <use x=\"147.412109\" xlink:href=\"#DejaVuSans-2e\"/>\r\n       <use x=\"179.199219\" xlink:href=\"#DejaVuSans-35\"/>\r\n      </g>\r\n     </g>\r\n    </g>\r\n    <g id=\"xtick_2\">\r\n     <g id=\"line2d_2\">\r\n      <g>\r\n       <use style=\"stroke:#000000;stroke-width:0.8;\" x=\"107.244812\" xlink:href=\"#mf52075be00\" y=\"224.64\"/>\r\n      </g>\r\n     </g>\r\n     <g id=\"text_2\">\r\n      <!-- −1.0 -->\r\n      <g transform=\"translate(95.103406 239.238437)scale(0.1 -0.1)\">\r\n       <defs>\r\n        <path d=\"M 2034 4250 \r\nQ 1547 4250 1301 3770 \r\nQ 1056 3291 1056 2328 \r\nQ 1056 1369 1301 889 \r\nQ 1547 409 2034 409 \r\nQ 2525 409 2770 889 \r\nQ 3016 1369 3016 2328 \r\nQ 3016 3291 2770 3770 \r\nQ 2525 4250 2034 4250 \r\nz\r\nM 2034 4750 \r\nQ 2819 4750 3233 4129 \r\nQ 3647 3509 3647 2328 \r\nQ 3647 1150 3233 529 \r\nQ 2819 -91 2034 -91 \r\nQ 1250 -91 836 529 \r\nQ 422 1150 422 2328 \r\nQ 422 3509 836 4129 \r\nQ 1250 4750 2034 4750 \r\nz\r\n\" id=\"DejaVuSans-30\" transform=\"scale(0.015625)\"/>\r\n       </defs>\r\n       <use xlink:href=\"#DejaVuSans-2212\"/>\r\n       <use x=\"83.789062\" xlink:href=\"#DejaVuSans-31\"/>\r\n       <use x=\"147.412109\" xlink:href=\"#DejaVuSans-2e\"/>\r\n       <use x=\"179.199219\" xlink:href=\"#DejaVuSans-30\"/>\r\n      </g>\r\n     </g>\r\n    </g>\r\n    <g id=\"xtick_3\">\r\n     <g id=\"line2d_3\">\r\n      <g>\r\n       <use style=\"stroke:#000000;stroke-width:0.8;\" x=\"148.385904\" xlink:href=\"#mf52075be00\" y=\"224.64\"/>\r\n      </g>\r\n     </g>\r\n     <g id=\"text_3\">\r\n      <!-- −0.5 -->\r\n      <g transform=\"translate(136.244498 239.238437)scale(0.1 -0.1)\">\r\n       <use xlink:href=\"#DejaVuSans-2212\"/>\r\n       <use x=\"83.789062\" xlink:href=\"#DejaVuSans-30\"/>\r\n       <use x=\"147.412109\" xlink:href=\"#DejaVuSans-2e\"/>\r\n       <use x=\"179.199219\" xlink:href=\"#DejaVuSans-35\"/>\r\n      </g>\r\n     </g>\r\n    </g>\r\n    <g id=\"xtick_4\">\r\n     <g id=\"line2d_4\">\r\n      <g>\r\n       <use style=\"stroke:#000000;stroke-width:0.8;\" x=\"189.526996\" xlink:href=\"#mf52075be00\" y=\"224.64\"/>\r\n      </g>\r\n     </g>\r\n     <g id=\"text_4\">\r\n      <!-- 0.0 -->\r\n      <g transform=\"translate(181.575434 239.238437)scale(0.1 -0.1)\">\r\n       <use xlink:href=\"#DejaVuSans-30\"/>\r\n       <use x=\"63.623047\" xlink:href=\"#DejaVuSans-2e\"/>\r\n       <use x=\"95.410156\" xlink:href=\"#DejaVuSans-30\"/>\r\n      </g>\r\n     </g>\r\n    </g>\r\n    <g id=\"xtick_5\">\r\n     <g id=\"line2d_5\">\r\n      <g>\r\n       <use style=\"stroke:#000000;stroke-width:0.8;\" x=\"230.668088\" xlink:href=\"#mf52075be00\" y=\"224.64\"/>\r\n      </g>\r\n     </g>\r\n     <g id=\"text_5\">\r\n      <!-- 0.5 -->\r\n      <g transform=\"translate(222.716526 239.238437)scale(0.1 -0.1)\">\r\n       <use xlink:href=\"#DejaVuSans-30\"/>\r\n       <use x=\"63.623047\" xlink:href=\"#DejaVuSans-2e\"/>\r\n       <use x=\"95.410156\" xlink:href=\"#DejaVuSans-35\"/>\r\n      </g>\r\n     </g>\r\n    </g>\r\n    <g id=\"xtick_6\">\r\n     <g id=\"line2d_6\">\r\n      <g>\r\n       <use style=\"stroke:#000000;stroke-width:0.8;\" x=\"271.80918\" xlink:href=\"#mf52075be00\" y=\"224.64\"/>\r\n      </g>\r\n     </g>\r\n     <g id=\"text_6\">\r\n      <!-- 1.0 -->\r\n      <g transform=\"translate(263.857618 239.238437)scale(0.1 -0.1)\">\r\n       <use xlink:href=\"#DejaVuSans-31\"/>\r\n       <use x=\"63.623047\" xlink:href=\"#DejaVuSans-2e\"/>\r\n       <use x=\"95.410156\" xlink:href=\"#DejaVuSans-30\"/>\r\n      </g>\r\n     </g>\r\n    </g>\r\n    <g id=\"xtick_7\">\r\n     <g id=\"line2d_7\">\r\n      <g>\r\n       <use style=\"stroke:#000000;stroke-width:0.8;\" x=\"312.950272\" xlink:href=\"#mf52075be00\" y=\"224.64\"/>\r\n      </g>\r\n     </g>\r\n     <g id=\"text_7\">\r\n      <!-- 1.5 -->\r\n      <g transform=\"translate(304.99871 239.238437)scale(0.1 -0.1)\">\r\n       <use xlink:href=\"#DejaVuSans-31\"/>\r\n       <use x=\"63.623047\" xlink:href=\"#DejaVuSans-2e\"/>\r\n       <use x=\"95.410156\" xlink:href=\"#DejaVuSans-35\"/>\r\n      </g>\r\n     </g>\r\n    </g>\r\n    <g id=\"xtick_8\">\r\n     <g id=\"line2d_8\">\r\n      <g>\r\n       <use style=\"stroke:#000000;stroke-width:0.8;\" x=\"354.091364\" xlink:href=\"#mf52075be00\" y=\"224.64\"/>\r\n      </g>\r\n     </g>\r\n     <g id=\"text_8\">\r\n      <!-- 2.0 -->\r\n      <g transform=\"translate(346.139802 239.238437)scale(0.1 -0.1)\">\r\n       <defs>\r\n        <path d=\"M 1228 531 \r\nL 3431 531 \r\nL 3431 0 \r\nL 469 0 \r\nL 469 531 \r\nQ 828 903 1448 1529 \r\nQ 2069 2156 2228 2338 \r\nQ 2531 2678 2651 2914 \r\nQ 2772 3150 2772 3378 \r\nQ 2772 3750 2511 3984 \r\nQ 2250 4219 1831 4219 \r\nQ 1534 4219 1204 4116 \r\nQ 875 4013 500 3803 \r\nL 500 4441 \r\nQ 881 4594 1212 4672 \r\nQ 1544 4750 1819 4750 \r\nQ 2544 4750 2975 4387 \r\nQ 3406 4025 3406 3419 \r\nQ 3406 3131 3298 2873 \r\nQ 3191 2616 2906 2266 \r\nQ 2828 2175 2409 1742 \r\nQ 1991 1309 1228 531 \r\nz\r\n\" id=\"DejaVuSans-32\" transform=\"scale(0.015625)\"/>\r\n       </defs>\r\n       <use xlink:href=\"#DejaVuSans-32\"/>\r\n       <use x=\"63.623047\" xlink:href=\"#DejaVuSans-2e\"/>\r\n       <use x=\"95.410156\" xlink:href=\"#DejaVuSans-30\"/>\r\n      </g>\r\n     </g>\r\n    </g>\r\n   </g>\r\n   <g id=\"matplotlib.axis_2\">\r\n    <g id=\"ytick_1\">\r\n     <g id=\"line2d_9\">\r\n      <defs>\r\n       <path d=\"M 0 0 \r\nL -3.5 0 \r\n\" id=\"m923efa3687\" style=\"stroke:#000000;stroke-width:0.8;\"/>\r\n      </defs>\r\n      <g>\r\n       <use style=\"stroke:#000000;stroke-width:0.8;\" x=\"38.482813\" xlink:href=\"#m923efa3687\" y=\"203.391263\"/>\r\n      </g>\r\n     </g>\r\n     <g id=\"text_9\">\r\n      <!-- −1.0 -->\r\n      <g transform=\"translate(7.2 207.190482)scale(0.1 -0.1)\">\r\n       <use xlink:href=\"#DejaVuSans-2212\"/>\r\n       <use x=\"83.789062\" xlink:href=\"#DejaVuSans-31\"/>\r\n       <use x=\"147.412109\" xlink:href=\"#DejaVuSans-2e\"/>\r\n       <use x=\"179.199219\" xlink:href=\"#DejaVuSans-30\"/>\r\n      </g>\r\n     </g>\r\n    </g>\r\n    <g id=\"ytick_2\">\r\n     <g id=\"line2d_10\">\r\n      <g>\r\n       <use style=\"stroke:#000000;stroke-width:0.8;\" x=\"38.482813\" xlink:href=\"#m923efa3687\" y=\"166.708299\"/>\r\n      </g>\r\n     </g>\r\n     <g id=\"text_10\">\r\n      <!-- −0.5 -->\r\n      <g transform=\"translate(7.2 170.507518)scale(0.1 -0.1)\">\r\n       <use xlink:href=\"#DejaVuSans-2212\"/>\r\n       <use x=\"83.789062\" xlink:href=\"#DejaVuSans-30\"/>\r\n       <use x=\"147.412109\" xlink:href=\"#DejaVuSans-2e\"/>\r\n       <use x=\"179.199219\" xlink:href=\"#DejaVuSans-35\"/>\r\n      </g>\r\n     </g>\r\n    </g>\r\n    <g id=\"ytick_3\">\r\n     <g id=\"line2d_11\">\r\n      <g>\r\n       <use style=\"stroke:#000000;stroke-width:0.8;\" x=\"38.482813\" xlink:href=\"#m923efa3687\" y=\"130.025334\"/>\r\n      </g>\r\n     </g>\r\n     <g id=\"text_11\">\r\n      <!-- 0.0 -->\r\n      <g transform=\"translate(15.579688 133.824553)scale(0.1 -0.1)\">\r\n       <use xlink:href=\"#DejaVuSans-30\"/>\r\n       <use x=\"63.623047\" xlink:href=\"#DejaVuSans-2e\"/>\r\n       <use x=\"95.410156\" xlink:href=\"#DejaVuSans-30\"/>\r\n      </g>\r\n     </g>\r\n    </g>\r\n    <g id=\"ytick_4\">\r\n     <g id=\"line2d_12\">\r\n      <g>\r\n       <use style=\"stroke:#000000;stroke-width:0.8;\" x=\"38.482813\" xlink:href=\"#m923efa3687\" y=\"93.34237\"/>\r\n      </g>\r\n     </g>\r\n     <g id=\"text_12\">\r\n      <!-- 0.5 -->\r\n      <g transform=\"translate(15.579688 97.141588)scale(0.1 -0.1)\">\r\n       <use xlink:href=\"#DejaVuSans-30\"/>\r\n       <use x=\"63.623047\" xlink:href=\"#DejaVuSans-2e\"/>\r\n       <use x=\"95.410156\" xlink:href=\"#DejaVuSans-35\"/>\r\n      </g>\r\n     </g>\r\n    </g>\r\n    <g id=\"ytick_5\">\r\n     <g id=\"line2d_13\">\r\n      <g>\r\n       <use style=\"stroke:#000000;stroke-width:0.8;\" x=\"38.482813\" xlink:href=\"#m923efa3687\" y=\"56.659405\"/>\r\n      </g>\r\n     </g>\r\n     <g id=\"text_13\">\r\n      <!-- 1.0 -->\r\n      <g transform=\"translate(15.579688 60.458624)scale(0.1 -0.1)\">\r\n       <use xlink:href=\"#DejaVuSans-31\"/>\r\n       <use x=\"63.623047\" xlink:href=\"#DejaVuSans-2e\"/>\r\n       <use x=\"95.410156\" xlink:href=\"#DejaVuSans-30\"/>\r\n      </g>\r\n     </g>\r\n    </g>\r\n    <g id=\"ytick_6\">\r\n     <g id=\"line2d_14\">\r\n      <g>\r\n       <use style=\"stroke:#000000;stroke-width:0.8;\" x=\"38.482813\" xlink:href=\"#m923efa3687\" y=\"19.97644\"/>\r\n      </g>\r\n     </g>\r\n     <g id=\"text_14\">\r\n      <!-- 1.5 -->\r\n      <g transform=\"translate(15.579688 23.775659)scale(0.1 -0.1)\">\r\n       <use xlink:href=\"#DejaVuSans-31\"/>\r\n       <use x=\"63.623047\" xlink:href=\"#DejaVuSans-2e\"/>\r\n       <use x=\"95.410156\" xlink:href=\"#DejaVuSans-35\"/>\r\n      </g>\r\n     </g>\r\n    </g>\r\n   </g>\r\n   <g id=\"patch_3\">\r\n    <path d=\"M 38.482813 224.64 \r\nL 38.482813 7.2 \r\n\" style=\"fill:none;stroke:#000000;stroke-linecap:square;stroke-linejoin:miter;stroke-width:0.8;\"/>\r\n   </g>\r\n   <g id=\"patch_4\">\r\n    <path d=\"M 373.282813 224.64 \r\nL 373.282813 7.2 \r\n\" style=\"fill:none;stroke:#000000;stroke-linecap:square;stroke-linejoin:miter;stroke-width:0.8;\"/>\r\n   </g>\r\n   <g id=\"patch_5\">\r\n    <path d=\"M 38.482812 224.64 \r\nL 373.282812 224.64 \r\n\" style=\"fill:none;stroke:#000000;stroke-linecap:square;stroke-linejoin:miter;stroke-width:0.8;\"/>\r\n   </g>\r\n   <g id=\"patch_6\">\r\n    <path d=\"M 38.482812 7.2 \r\nL 373.282812 7.2 \r\n\" style=\"fill:none;stroke:#000000;stroke-linecap:square;stroke-linejoin:miter;stroke-width:0.8;\"/>\r\n   </g>\r\n  </g>\r\n </g>\r\n <defs>\r\n  <clipPath id=\"p57c13b6574\">\r\n   <rect height=\"217.44\" width=\"334.8\" x=\"38.482813\" y=\"7.2\"/>\r\n  </clipPath>\r\n </defs>\r\n</svg>\r\n",
      "image/png": "[encoded data removed]"
     },
     "metadata": {
      "needs_background": "light"
     }
    }
   ],
   "source": [
    "# Le plan principal est le plan contenant les variables C1 et C2, les deux premieres composantes principales\n",
    "C = dot(Z, Pord)\n",
    "print(\"Matrice des composantes principales :\\n\", around(C, 2), '\\n')\n",
    "C1 = C[:,0]\n",
    "C2 = C[:,1]\n",
    "print(\"C1 : \", around(C1, 2), '\\n')\n",
    "print(\"C2 : \", around(C2, 2), '\\n')\n",
    "scatter(C1, C2)\n",
    "show()"
   ]
  },
  {
   "cell_type": "markdown",
   "metadata": {},
   "source": [
    "**5.** Vérifier numériquement que $C1$ et $C2$ sont de moyenne nulle, que $cov(C1,C2)=0$, que la variance de $C1$ est égale à la plus grande valeur propre de $R$ et que la variance de $C2$ est égale à la valeur propre \"du milieu\". "
   ]
  },
  {
   "cell_type": "code",
   "execution_count": 118,
   "metadata": {},
   "outputs": [
    {
     "output_type": "stream",
     "name": "stdout",
     "text": [
      "La moyenne de C1 est nulle : True \n\nLa moyenne de C2 est nulle : True \n\nLa variance de C1 (égale à la 1ere valeure propre de R) : 1.92 \n\nLa variance de C2 (égale à la 2nd valeure propre de R) : 1.02 \n\nLa covariance de C1 et C2 est nulle : True\n"
     ]
    }
   ],
   "source": [
    "print(\"La moyenne de C1 est nulle :\", around(mean(C1), 2) == 0, '\\n')\n",
    "print(\"La moyenne de C2 est nulle :\", around(mean(C2), 2) == 0, '\\n')\n",
    "print(\"La variance de C1 (égale à la 1ere valeure propre de R) :\", around(var(C1), 2), '\\n')\n",
    "print(\"La variance de C2 (égale à la 2nd valeure propre de R) :\", around(var(C2), 2), '\\n')\n",
    "print(\"La covariance de C1 et C2 est nulle :\", around(dot(C1.T, C2), 2) == 0)"
   ]
  },
  {
   "cell_type": "markdown",
   "metadata": {},
   "source": [
    "# Exercice 3 : programmation d'une ACP "
   ]
  },
  {
   "cell_type": "markdown",
   "metadata": {},
   "source": [
    "Le but de cet exercice est de programmer un outil tout prêt pour effectuer une ACP. Pour tester pas à pas les fonctions que nous allons définir, nous allons utiliser les données du fichier `demographie.xls` qui contient des statistiques d'une étude de 1987 concernant 166 pays.\n",
    "Les statistiques des pays correspondent aux 15 variables (1 qualitative, 14 quantitatives) suivantes :\n",
    "- COUNTRY : nom du pays\n",
    "- POP87 : population en 1987\n",
    "- NAT : taux de natalité\n",
    "- MORT : taux de mortalité\n",
    "- ACCR : taux d'accroissement de la population\n",
    "- POP00 : population prévue pour 2000\n",
    "- POP20 : population prévue pour 2020\n",
    "- MORTI : taux de mortalité infantile\n",
    "- FERTI : taux de fertilité\n",
    "- AGE15 : proportion de la population  de moins de 15 ans\n",
    "- AGE65 : proportion de la population  de plus de 65 ans\n",
    "- ESPER : espérance de vie\n",
    "- URBA : taux d'urbanisation\n",
    "- PNB : produit national brut\n",
    "- CONTI : continent (1=Afrique, 2=Asie, 3=Amérique, 4=Europe, 5=Océanie)"
   ]
  },
  {
   "cell_type": "code",
   "execution_count": 120,
   "metadata": {},
   "outputs": [
    {
     "output_type": "execute_result",
     "data": {
      "text/plain": [
       "              COUNTRY  POP87  NAT  MORT  ACCR  POP00  POP20  MORTI  FERTI  \\\n",
       "0         AFGANISTHAN   14.2   48    22   2.6   24.5   39.1  182.0    7.6   \n",
       "1             ALBANIA    3.1   26     6   2.0    3.8    4.6   43.0    3.3   \n",
       "2             ALGERIA   23.5   42    10   3.2   33.7   49.4   81.0    6.4   \n",
       "3              ANGOLA    8.0   47    22   2.5   11.5   19.1  143.0    6.4   \n",
       "4  ANTIGUA ET BARBUDA    0.1   15     5   1.0    0.1    0.1   10.0    1.7   \n",
       "\n",
       "   AGE15  AGE65  ESPER  URBA     PNB  CONTI  \n",
       "0     46      4     39    16   160.0      2  \n",
       "1     35      5     71    34   900.0      4  \n",
       "2     46      4     60    43  2530.0      1  \n",
       "3     45      3     43    25   500.0      1  \n",
       "4     27      6     72    34  2030.0      3  "
      ],
      "text/html": "<div>\n<style scoped>\n    .dataframe tbody tr th:only-of-type {\n        vertical-align: middle;\n    }\n\n    .dataframe tbody tr th {\n        vertical-align: top;\n    }\n\n    .dataframe thead th {\n        text-align: right;\n    }\n</style>\n<table border=\"1\" class=\"dataframe\">\n  <thead>\n    <tr style=\"text-align: right;\">\n      <th></th>\n      <th>COUNTRY</th>\n      <th>POP87</th>\n      <th>NAT</th>\n      <th>MORT</th>\n      <th>ACCR</th>\n      <th>POP00</th>\n      <th>POP20</th>\n      <th>MORTI</th>\n      <th>FERTI</th>\n      <th>AGE15</th>\n      <th>AGE65</th>\n      <th>ESPER</th>\n      <th>URBA</th>\n      <th>PNB</th>\n      <th>CONTI</th>\n    </tr>\n  </thead>\n  <tbody>\n    <tr>\n      <th>0</th>\n      <td>AFGANISTHAN</td>\n      <td>14.2</td>\n      <td>48</td>\n      <td>22</td>\n      <td>2.6</td>\n      <td>24.5</td>\n      <td>39.1</td>\n      <td>182.0</td>\n      <td>7.6</td>\n      <td>46</td>\n      <td>4</td>\n      <td>39</td>\n      <td>16</td>\n      <td>160.0</td>\n      <td>2</td>\n    </tr>\n    <tr>\n      <th>1</th>\n      <td>ALBANIA</td>\n      <td>3.1</td>\n      <td>26</td>\n      <td>6</td>\n      <td>2.0</td>\n      <td>3.8</td>\n      <td>4.6</td>\n      <td>43.0</td>\n      <td>3.3</td>\n      <td>35</td>\n      <td>5</td>\n      <td>71</td>\n      <td>34</td>\n      <td>900.0</td>\n      <td>4</td>\n    </tr>\n    <tr>\n      <th>2</th>\n      <td>ALGERIA</td>\n      <td>23.5</td>\n      <td>42</td>\n      <td>10</td>\n      <td>3.2</td>\n      <td>33.7</td>\n      <td>49.4</td>\n      <td>81.0</td>\n      <td>6.4</td>\n      <td>46</td>\n      <td>4</td>\n      <td>60</td>\n      <td>43</td>\n      <td>2530.0</td>\n      <td>1</td>\n    </tr>\n    <tr>\n      <th>3</th>\n      <td>ANGOLA</td>\n      <td>8.0</td>\n      <td>47</td>\n      <td>22</td>\n      <td>2.5</td>\n      <td>11.5</td>\n      <td>19.1</td>\n      <td>143.0</td>\n      <td>6.4</td>\n      <td>45</td>\n      <td>3</td>\n      <td>43</td>\n      <td>25</td>\n      <td>500.0</td>\n      <td>1</td>\n    </tr>\n    <tr>\n      <th>4</th>\n      <td>ANTIGUA ET BARBUDA</td>\n      <td>0.1</td>\n      <td>15</td>\n      <td>5</td>\n      <td>1.0</td>\n      <td>0.1</td>\n      <td>0.1</td>\n      <td>10.0</td>\n      <td>1.7</td>\n      <td>27</td>\n      <td>6</td>\n      <td>72</td>\n      <td>34</td>\n      <td>2030.0</td>\n      <td>3</td>\n    </tr>\n  </tbody>\n</table>\n</div>"
     },
     "metadata": {},
     "execution_count": 120
    }
   ],
   "source": [
    "df =read_excel('datas/demographie.xls')\n",
    "df.head()"
   ]
  },
  {
   "cell_type": "markdown",
   "metadata": {},
   "source": [
    "On définit les arrays suivants:\n",
    "\n",
    "-pays : les noms des pays\n",
    "\n",
    "-continent : les numéros des continents\n",
    "\n",
    "-data : les autres variables (qui sont quantitatives et donc adaptées à une ACP), ainsi que leurs labels.\n"
   ]
  },
  {
   "cell_type": "code",
   "execution_count": 122,
   "metadata": {},
   "outputs": [],
   "source": [
    "pays = df['COUNTRY'].values\n",
    "continent = df['CONTI'].values\n",
    "data = df[['POP87','NAT','MORT','ACCR','POP00','POP20','MORTI','FERTI','AGE15','AGE65','ESPER','URBA','PNB']].values\n",
    "labels=['87','NAT','MORT','ACCR','00','20','MORTI','FERTI','-15','+65','ESPER','URBA','PNB']"
   ]
  },
  {
   "cell_type": "markdown",
   "metadata": {},
   "source": [
    "**Question 1.** Ecrire une fonction `normalise` qui prend en entrée un tableau de données contenant en ligne les individus et en colonne les variables, et fournit en sortie le tableau des données centrées réduites. Tester votre fonction sur la matrice `data`."
   ]
  },
  {
   "cell_type": "code",
   "execution_count": 145,
   "metadata": {},
   "outputs": [
    {
     "output_type": "stream",
     "name": "stdout",
     "text": [
      "Matrice centrée et réduite :\n [[-0.15  1.21  1.98 ...  0.    0.    0.  ]\n [-0.25 -0.49 -0.99 ...  0.    0.    0.  ]\n [-0.06  0.75 -0.25 ...  0.    0.    0.  ]\n ...\n [ 0.01  0.98  0.68 ...  0.    0.    0.  ]\n [-0.22  1.37  0.68 ...  0.    0.    0.  ]\n [-0.19  1.14  0.12 ...  0.    0.    0.  ]]\n"
     ]
    }
   ],
   "source": [
    "def normalise(X):\n",
    "    Z = zeros((shape(X)[0], shape(X)[1]))\n",
    "    for j in range(3) :\n",
    "        Z[:,j] = (X[:,j] - mean(X[:,j])) / sqrt(var(X[:,j]))\n",
    "    return Z\n",
    "datanorm = normalise(data)\n",
    "print(\"Matrice centrée et réduite :\\n\", around(datanorm, 2))"
   ]
  },
  {
   "cell_type": "markdown",
   "metadata": {},
   "source": [
    "**Question 2.** Ecrire une fonction `correlation` qui, étant donné un tableau de données (en ligne les individus, en colonne les variables), renvoie sa matrice de corrélation.  Testez votre fonction sur `data`."
   ]
  },
  {
   "cell_type": "code",
   "execution_count": 150,
   "metadata": {},
   "outputs": [
    {
     "output_type": "stream",
     "name": "stdout",
     "text": [
      "Matrice de corrélation :\n [[ 1.   -0.1  -0.04  0.    0.    0.    0.    0.    0.    0.    0.    0.\n   0.  ]\n [-0.1   1.    0.59  0.    0.    0.    0.    0.    0.    0.    0.    0.\n   0.  ]\n [-0.04  0.59  1.    0.    0.    0.    0.    0.    0.    0.    0.    0.\n   0.  ]\n [ 0.    0.    0.    0.    0.    0.    0.    0.    0.    0.    0.    0.\n   0.  ]\n [ 0.    0.    0.    0.    0.    0.    0.    0.    0.    0.    0.    0.\n   0.  ]\n [ 0.    0.    0.    0.    0.    0.    0.    0.    0.    0.    0.    0.\n   0.  ]\n [ 0.    0.    0.    0.    0.    0.    0.    0.    0.    0.    0.    0.\n   0.  ]\n [ 0.    0.    0.    0.    0.    0.    0.    0.    0.    0.    0.    0.\n   0.  ]\n [ 0.    0.    0.    0.    0.    0.    0.    0.    0.    0.    0.    0.\n   0.  ]\n [ 0.    0.    0.    0.    0.    0.    0.    0.    0.    0.    0.    0.\n   0.  ]\n [ 0.    0.    0.    0.    0.    0.    0.    0.    0.    0.    0.    0.\n   0.  ]\n [ 0.    0.    0.    0.    0.    0.    0.    0.    0.    0.    0.    0.\n   0.  ]\n [ 0.    0.    0.    0.    0.    0.    0.    0.    0.    0.    0.    0.\n   0.  ]]\n"
     ]
    }
   ],
   "source": [
    "def correlation(M):\n",
    "    Z = normalise(M)\n",
    "    R = 1/shape(M)[0] * dot(Z.T, Z)\n",
    "    return R\n",
    "R = correlation(data)\n",
    "print(\"Matrice de corrélation :\\n\", around(R, 2))"
   ]
  },
  {
   "cell_type": "markdown",
   "metadata": {},
   "source": [
    "**Question 3.** En réutilisant les commandes écrites précédemment, construire une fonction `acp` qui prend en entrée un tableau de données et qui renvoie les valeurs principales ordonnées de manière décroissante, les vecteurs principaux et les composantes principales correspondantes. Testez votre fonction avec `data`."
   ]
  },
  {
   "cell_type": "code",
   "execution_count": 140,
   "metadata": {},
   "outputs": [
    {
     "output_type": "stream",
     "name": "stdout",
     "text": [
      "Valeurs propres de R : \n [0.05 1.02 1.92] \n\nSomme des valeurs propres (egal à p, le nombre de variables) : \n 3.0 \n\nMatrice contenant en colonnes les vecteurs propres de X \n [[ 0.7  -0.04  0.71]\n [ 0.21  0.96 -0.16]\n [-0.68  0.27  0.68]] \n\nIndices ordonnés :\n[0 1 2] --> [2 1 0] \n\nValeurs propres ordonnés :\n[0.05475274 1.02132127 1.92392599] --> [1.92392599 1.02132127 0.05475274] \n\nVecteurs propres ordonnés :\n[ 0.7  -0.04  0.71] --> [ 0.71 -0.04  0.7 ]\n[ 0.21  0.96 -0.16] --> [-0.16  0.96  0.21]\n[-0.68  0.27  0.68] --> [ 0.68  0.27 -0.68]\n"
     ]
    }
   ],
   "source": [
    "def acp(R):\n",
    "    val, P = eigh(R)\n",
    "    ind = argsort(val)[::-1]\n",
    "    val2 = sort(val)[::-1] # valeurs propres ordonnées de manière décroissante\n",
    "    Pord = zeros((3,3))\n",
    "    for i in range(3):\n",
    "        Pord[:,i] = P[:,ind[i]]\n",
    "    return val2, Pord\n",
    "\n",
    "val2, Pord = acp(R)\n",
    "\n",
    "print(\"Valeurs propres de R : \\n\", around(val, 2), '\\n')\n",
    "print(\"Somme des valeurs propres (egal à p, le nombre de variables) : \\n\", around(sum(val), 2), '\\n')\n",
    "print(\"Matrice contenant en colonnes les vecteurs propres de X \\n\", around(P, 2), '\\n')\n",
    "\n",
    "\n",
    "# Affichage et vérification\n",
    "print(\"Indices ordonnés :\")\n",
    "print(argsort(val), \"-->\", ind, '\\n')\n",
    "print(\"Valeurs propres ordonnés :\")\n",
    "print(val, \"-->\", val2, '\\n')\n",
    "print(\"Vecteurs propres ordonnés :\")\n",
    "print(around(P[0,:], 2), \"-->\", around(Pord[0,:], 2))\n",
    "print(around(P[1,:], 2), \"-->\", around(Pord[1,:], 2))\n",
    "print(around(P[2,:], 2), \"-->\", around(Pord[2,:], 2))"
   ]
  },
  {
   "cell_type": "markdown",
   "metadata": {},
   "source": [
    "**Question 4.** Vérifiez pour la matrice `data` que la matrice de covariance des composantes principales est une matrice diagonale dont les termes diagonaux sont les valeurs principales ordonnées de manière décroissante."
   ]
  },
  {
   "cell_type": "code",
   "execution_count": null,
   "metadata": {},
   "outputs": [],
   "source": []
  },
  {
   "cell_type": "markdown",
   "metadata": {},
   "source": [
    "**Question 5.** À partir de `data`, représenter les points-individus dans le plan principal en nommant les axes (`CP 1`, `CP 2`).  "
   ]
  },
  {
   "cell_type": "code",
   "execution_count": null,
   "metadata": {},
   "outputs": [],
   "source": []
  },
  {
   "cell_type": "markdown",
   "metadata": {},
   "source": [
    "**Question 6.** Reprendre le graphique précédent en attribuant une couleur spécifique à l'individu en fonction de la variable `continent`. Commenter."
   ]
  },
  {
   "cell_type": "code",
   "execution_count": null,
   "metadata": {},
   "outputs": [],
   "source": []
  }
 ],
 "metadata": {
  "kernelspec": {
   "name": "python3",
   "display_name": "Python 3.9.0 64-bit",
   "metadata": {
    "interpreter": {
     "hash": "11e3bc8161ab6b796458d7b0073fb875b15767c94894a8c47da2c909a7b0c5b1"
    }
   }
  },
  "language_info": {
   "codemirror_mode": {
    "name": "ipython",
    "version": 3
   },
   "file_extension": ".py",
   "mimetype": "text/x-python",
   "name": "python",
   "nbconvert_exporter": "python",
   "pygments_lexer": "ipython3",
   "version": "3.9.0-final"
  }
 },
 "nbformat": 4,
 "nbformat_minor": 2
}