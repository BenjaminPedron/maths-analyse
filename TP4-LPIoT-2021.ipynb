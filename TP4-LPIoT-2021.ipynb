{
 "cells": [
  {
   "cell_type": "code",
   "execution_count": null,
   "metadata": {},
   "outputs": [],
   "source": [
    "from pandas import *\n",
    "from numpy import *\n",
    "from numpy.linalg import * \n",
    "from matplotlib.pylab import *"
   ]
  },
  {
   "cell_type": "markdown",
   "metadata": {},
   "source": [
    "# Bac à sable pour les données \"jouet\""
   ]
  },
  {
   "cell_type": "code",
   "execution_count": null,
   "metadata": {},
   "outputs": [],
   "source": [
    "X=array([[12,16,14],[14,13,15],[8,11,8],[10,9,6],[16,6,17]]) # rappel des données jouet"
   ]
  },
  {
   "cell_type": "markdown",
   "metadata": {},
   "source": [
    "# Classification hiérarchique de Ward"
   ]
  },
  {
   "cell_type": "markdown",
   "metadata": {},
   "source": [
    "On va travailler avec le fichier `depenses-etat.xls` qui contient la répartition des dépenses de l'État  français par ministère entre 1872 et 1971. Ces données sont tirées de l'ouvrage *L'Etat et l'Economie. Essai d'explication de l'évolution des dépenses publiques en France (1870-1980)* de  Christine Andre et  Robert Delorme. "
   ]
  },
  {
   "cell_type": "code",
   "execution_count": null,
   "metadata": {},
   "outputs": [],
   "source": [
    "df = read_excel('depenses-etat.xls')\n",
    "df.head(10)"
   ]
  },
  {
   "cell_type": "markdown",
   "metadata": {},
   "source": [
    "On crée les array `annees`, `ministeres` et `data` contenant respectivement les années, les noms des ministères\n",
    "et les valeurs du tableau de données."
   ]
  },
  {
   "cell_type": "code",
   "execution_count": null,
   "metadata": {},
   "outputs": [],
   "source": [
    "annees = df['années'].values\n",
    "data = df.values\n",
    "data = delete(data,[0],axis=1)\n",
    "ministeres = asarray(df.columns)\n",
    "ministeres=delete(ministeres,[0])\n",
    "print(annees)\n",
    "print(ministeres)\n",
    "print(shape(data),len(annees),len(ministeres))"
   ]
  },
  {
   "cell_type": "markdown",
   "metadata": {},
   "source": [
    "On a recopié ci-dessous la fonction `normalise` et la fonction `acp` écrites lors du TP précédent."
   ]
  },
  {
   "cell_type": "code",
   "execution_count": null,
   "metadata": {},
   "outputs": [],
   "source": [
    "def normalise(M):\n",
    "    n,p=shape(M)\n",
    "    Z=zeros((n,p))\n",
    "    for j in range(p):\n",
    "        Z[:,j]=(M[:,j]-mean(M[:,j]))/std(M[:,j])\n",
    "    return Z\n",
    "def acp(M):\n",
    "    n,p=shape(M) \n",
    "    Z=normalise(M)\n",
    "    R= 1/n*dot(Z.T,Z)\n",
    "    val0, P0 = eigh(R) \n",
    "    val = sort(val0)[::-1] \n",
    "    index = argsort(val0)[::-1] \n",
    "    P=zeros((p,p))\n",
    "    for j in range(p):\n",
    "        P[:,j]=P0[:,index[j]]\n",
    "    C=dot(Z,P)\n",
    "    return val, P, C"
   ]
  },
  {
   "cell_type": "markdown",
   "metadata": {},
   "source": [
    "**Question 1.** Représentez la projection des individus (ici les années) dans le plan principal. Affectez à chaque point du plan l'année correspondante, en utilisant la commande `annotate(annees[i],(C1[i],C2[i]))`, où `C1` et `C2` désignent les deux premières composantes principales. Ajoutez l'instruction\n",
    "`axhline(y=0, lw=1, color='k'); axvline(x=0, lw=1, color='k')` afin d'afficher sur le graphique les deux axes Ox et Oy correspondant à C1 et C2. \n",
    "\n",
    "Commentez ce graphique."
   ]
  },
  {
   "cell_type": "code",
   "execution_count": null,
   "metadata": {},
   "outputs": [],
   "source": []
  },
  {
   "cell_type": "markdown",
   "metadata": {},
   "source": [
    "Nous avons vu qu'il semblait naturel, après avoir effectué une ACP, de regrouper les dépenses de l'état en 4 clusters. Nous allons donc programmer l'algorithme de classification (non supervisé) de Ward, pour effectuer une classification automatique. Cela nous permettra entre autres de juger de la pertinence de ces 4 clusters."
   ]
  },
  {
   "cell_type": "markdown",
   "metadata": {},
   "source": [
    "**Question 3.** Créez une fonction `bary` qui prend en arguments\n",
    "- deux arrays `G1` et `G2` qui sont les centres de gravité de deux classes,\n",
    "- deux nombres `n1` et `n2` qui indiquent le nombre d'individus dans chaque classe,\n",
    "\n",
    "et renvoie les coordonnées du centre de gravité entre les classes de centres de gravité `G1` et `G2`.\n",
    "\n",
    "Pour rappel, on calcule le centre de gravité entre deux classes de la manière suivante :\n",
    "\\begin{align*}\n",
    "G=\\frac{1}{n_1+n_2}(n_1 G_1+n_2G_2).\n",
    "\\end{align*}"
   ]
  },
  {
   "cell_type": "code",
   "execution_count": null,
   "metadata": {},
   "outputs": [],
   "source": []
  },
  {
   "cell_type": "markdown",
   "metadata": {},
   "source": [
    "**Question 4.** Créez une fonction `indice` qui prend en arguments\n",
    "- deux arrays `G1`, `G2` qui sont les centres de gravité des deux classes,\n",
    "- deux nombres `n1` et `n2` qui indiquent le nombre d'individus dans chaque classe,\n",
    "- un nombre `n` qui indique le nombre total d'individus,\n",
    "\n",
    "et renvoie l'indice d'agrégation entre ces deux classes qui est donné par la quantité\n",
    "\n",
    "\\begin{align*}\n",
    "\\frac{n_1n_2}{n(n_1+n_2)}\\mathrm{dist}(G_1,G_2)^2.\n",
    "\\end{align*}\n",
    "\n",
    "Testez votre fonction avec les données jouet et les indices d'agrégation fournis page 11 du poly. "
   ]
  },
  {
   "cell_type": "code",
   "execution_count": null,
   "metadata": {},
   "outputs": [],
   "source": [
    "# définition de la fonction indice"
   ]
  },
  {
   "cell_type": "code",
   "execution_count": null,
   "metadata": {},
   "outputs": [],
   "source": [
    "# test avec les données jouet\n",
    "X=array([[12,16,14],[14,13,15],[8,11,8],[10,9,6],[16,6,17]]) # rappel des données jouet"
   ]
  },
  {
   "cell_type": "markdown",
   "metadata": {},
   "source": [
    "**Question 5.** Créez une fonction `agreg` qui prend en arguments\n",
    "- un array `donnees` (chaque ligne $i$ de la matrice contient les coordonnées du centre de gravité de la classe $i$)\n",
    "- un array `nbindiv` qui indique le nombre d'individus par classe (le terme $i$ de ce vecteur indique le nombre d'individu dans la classe $i$)\n",
    "\n",
    "et renvoie une matrice contenant les indices d'agrégation entre toutes les paires de classes. La ligne $i$ et la colonne $j$ de la matrice renvoyée devra correspondre à l'indice d'agrégation entre les classes $i$ et $j$. \n",
    "\n",
    "Testez votre fonction avec les données jouet."
   ]
  },
  {
   "cell_type": "code",
   "execution_count": null,
   "metadata": {},
   "outputs": [],
   "source": [
    "# définition de la fonction agreg"
   ]
  },
  {
   "cell_type": "code",
   "execution_count": null,
   "metadata": {},
   "outputs": [],
   "source": [
    "# test avec les données jouet"
   ]
  },
  {
   "cell_type": "markdown",
   "metadata": {},
   "source": [
    "**Question 6.** On a défini ci-dessous une fonction `minagreg` qui prend les mêmes entrées que `agreg` (et utilise cette fonction) et renvoie :\n",
    "- l'indice d'agrégation le plus faible entre toutes les paires de classes,\n",
    "- les numéros $i$ et $j$ des deux classes correspondantes avec $i\\leq j$.\n",
    "\n",
    "Exécutez les lignes de commande ci-dessous et testez la fonction `minagreg` avec les données jouet.\n",
    "\n",
    "(Indications qui aident à comprendre les lignes de commande : \n",
    "\n",
    "1) il faut faire en sorte de ne pas prendre en compte l'indice d'agrégation entre une classe et elle-même qui est toujours nul (cf les 0 sur la diagonale)! Pour cela, on a ajouté à la matrice d'agrégation `Mat` une matrice égale à `2*m*identity(p)` où $m$ est la plus grande valeur de `Mat` et `identity(p)` est la matrice identité de format $p\\times p$.\n",
    "\n",
    "2) étant donnée une matrice M, on peut déterminer la valeur maximale de cette matrice via `M.max()` et la valeur minimale via `M.min()`. Pour savoir où se trouve l'élément réalisant ce minimum, on utilise la commande `argmin`. Cette commande donne le numéro de l'élément en parcourant la matrice ligne par ligne. Si la matrice est de taille $(p\\times p)$, on détermine le numéro de ligne en effectuant la division euclidienne par le nombre de colonnes (commande `//p`) et le numéro de colonne est alors donné par le reste de cette division euclidienne (commande `%p`).)"
   ]
  },
  {
   "cell_type": "code",
   "execution_count": null,
   "metadata": {},
   "outputs": [],
   "source": [
    "def minagreg(donnees, nbindiv):\n",
    "    c=donnees.shape[0] # nombre de classes\n",
    "    Mat=agreg(donnees, nbindiv)\n",
    "    m = Mat.max() # maximum de la matrice d'agrégation\n",
    "    Mat = Mat+2*m*identity(c) # on remplace les zeros de la diagonale par la valeur 2*max\n",
    "    mini = Mat.min() # minimum de la matrice d'agregation en dehors de la digonale\n",
    "    arg=Mat.argmin() # la position de ce minimum, en parcourant la matrice ligne par ligne\n",
    "    i = arg//c # ligne où se trouve le min\n",
    "    j = arg%c # colonne où se trouve le min\n",
    "    ordo = sort([i,j])  # on ordonne i et j \n",
    "    return mini, ordo[0], ordo[1]"
   ]
  },
  {
   "cell_type": "code",
   "execution_count": null,
   "metadata": {},
   "outputs": [],
   "source": [
    "# test avec les données jouet"
   ]
  },
  {
   "cell_type": "markdown",
   "metadata": {},
   "source": [
    "**Question 7.** Tester à présent cette fonction sur les données normalisées des dépenses de l'état."
   ]
  },
  {
   "cell_type": "code",
   "execution_count": null,
   "metadata": {},
   "outputs": [],
   "source": []
  },
  {
   "cell_type": "markdown",
   "metadata": {},
   "source": [
    "**Question 8.** On donne ci-dessous la fonction `ward` qui prend en entrées\n",
    "- un array de données `donnees`;\n",
    "- une liste `noms` qui contient les noms des individus (chaque nom se trouvant dans un ensemble, c'est-à-dire entre accolades);\n",
    "\n",
    "et renvoie\n",
    "\n",
    "- un array `classe` qui contient la classe finale (contenant donc tous les individus), décrite par l'ensemble des noms des individus s'y trouvant, et le nombre total d'individus qui s'y trouvent;\n",
    "- un array `indices` qui contient l' indice d'agrégation des deux classes fusionnées pour chaque étape;\n",
    "- un array `clustering` qui contient les classes existantes à chaque étape (où les classes sont décrites par l'ensemble des noms des individus s'y trouvant).\n",
    "\n",
    "Testez la fonction `ward` sur les données jouet et comparez à la classification décrite dans le poly. "
   ]
  },
  {
   "cell_type": "code",
   "execution_count": null,
   "metadata": {},
   "outputs": [],
   "source": [
    "def ward(donnees,label):\n",
    "    n,p=donnees.shape\n",
    "    classe=[]\n",
    "    clustering=[label]\n",
    "    for i in range(n):\n",
    "        classe.append([label[i],1])\n",
    "    indices=[]\n",
    "    for k in range(n-1):\n",
    "        nbindiv=array(classe)[:,1]\n",
    "        mini,i,j=minagreg(donnees,nbindiv)\n",
    "        indices.append(mini)\n",
    "        nvelle_ligne=bary(donnees[i,:],donnees[j,:],nbindiv[i],nbindiv[j])\n",
    "        donnees=delete(append(donnees,[nvelle_ligne],axis=0),[i,j],axis=0)\n",
    "        classe.append([classe[i][0].union(classe[j][0]),classe[i][1]+classe[j][1]])\n",
    "        del classe[j]\n",
    "        del classe[i]\n",
    "        nvelle_classe=[]\n",
    "        for l in range(n-1-k):\n",
    "            nvelle_classe.append(classe[l][0])\n",
    "        clustering.append(nvelle_classe)\n",
    "    return classe,indices,clustering"
   ]
  },
  {
   "cell_type": "code",
   "execution_count": null,
   "metadata": {},
   "outputs": [],
   "source": [
    "# test avec les données jouet\n",
    "ward(Z,[{'A'},{'B'},{'C'},{'D'},{'E'}])"
   ]
  },
  {
   "cell_type": "markdown",
   "metadata": {},
   "source": [
    "**Question 9.** Appliquez la fonction `ward` aux données des dépenses de l'état. Affichez les 4 clusters apparaissant à l'étape $n-4$. "
   ]
  },
  {
   "cell_type": "code",
   "execution_count": null,
   "metadata": {},
   "outputs": [],
   "source": []
  },
  {
   "cell_type": "markdown",
   "metadata": {},
   "source": [
    "**Question 9.** Tracez les indices d'agrégation obtenus à chaque étape de l'algorithme de Ward. A quel moment observez vous le premier saut de l'indice d'agrégation ?"
   ]
  },
  {
   "cell_type": "code",
   "execution_count": null,
   "metadata": {},
   "outputs": [],
   "source": []
  },
  {
   "cell_type": "markdown",
   "metadata": {},
   "source": [
    "**Bonus 1.** A partir de `clustering` renvoyé par la fonction `ward`, on peut obtenir les quatre clusters d'années calculés avec l'algorithme de Ward. On peut également représenter à nouveau les points-individus dans le plan principal, en attribuant à chaque individu une couleur différente en fonction de sa classe."
   ]
  },
  {
   "cell_type": "code",
   "execution_count": null,
   "metadata": {},
   "outputs": [],
   "source": [
    "# affichage des quatre clusters\n",
    "quatre_classes=clustering[n-4]\n",
    "for i in range(4):\n",
    "    print(quatre_classes[i])\n",
    "# représentation des points-individus dans le plan principal avec des couleurs différentes suivant les classes\n",
    "figure(figsize=(10,10))\n",
    "for i in range(n):\n",
    "    if (annees[i] in quatre_classes[0]):\n",
    "        scatter(C1[i], C2[i], color='red')\n",
    "        annotate(annees[i],(C1[i], C2[i]))\n",
    "    elif (annees[i] in quatre_classes[1]):\n",
    "        scatter(C[i,0], C[i,1], color='blue')\n",
    "        annotate(annees[i],(C[i,0], C[i,1]))\n",
    "    elif (annees[i] in quatre_classes[2]):\n",
    "        scatter(C[i,0], C[i,1], color='orange')\n",
    "        annotate(annees[i],(C[i,0], C[i,1]))\n",
    "    else:\n",
    "        scatter(C[i,0], C[i,1], color='green')\n",
    "        annotate(annees[i],(C[i,0], C[i,1]))\n",
    "axhline(y=0, lw=1, color='k') # axe y=0\n",
    "axvline(x=0, lw=1, color='k') # axe x=0\n",
    "show()"
   ]
  },
  {
   "cell_type": "markdown",
   "metadata": {},
   "source": [
    "**Bonus 2.** Affichage des étapes de l'algorithme de Ward sous forme de dendrogramme à l'aide de la bibliothèque scipy.\n"
   ]
  },
  {
   "cell_type": "code",
   "execution_count": null,
   "metadata": {},
   "outputs": [],
   "source": [
    "import scipy.cluster.hierarchy as hi \n",
    "classif=hi.ward(data_norm)\n",
    "figure(figsize=(8,6))\n",
    "hi.dendrogram(classif, labels=annees)\n",
    "show()"
   ]
  },
  {
   "cell_type": "markdown",
   "metadata": {},
   "source": [
    "**Bonus 3.** Classification des données des dépenses de l'état grâce à l'algorithme des K-means en utilisant la bibliothèque Scikit-learn. La méthode des K-means est implémentée dans sklearn sous le nom de `cluster.KMeans`(documentation disponible ici https://scikit-learn.org/stable/modules/generated/sklearn.cluster.KMeans.html). \n",
    "\n",
    "Ici, on a choisi `random` comme inititialisation et choisi une classification en 4 classes. En recommençant l'exécution, on peut constater que l'algo ne fournit pas toujours la même réponse. "
   ]
  },
  {
   "cell_type": "code",
   "execution_count": null,
   "metadata": {},
   "outputs": [],
   "source": [
    "from sklearn import * # chargement de la librairie Scikit-learn\n",
    "classif2=cluster.KMeans(n_clusters=4,init='random').fit(data_norm)\n",
    "print(classif2.labels_)\n",
    "print(classif2.inertia_)\n",
    "for i in range(4):\n",
    "    print('Classe',i,'=',annees[classif2.labels_==i])"
   ]
  }
 ],
 "metadata": {
  "kernelspec": {
   "display_name": "Python 3",
   "language": "python",
   "name": "python3"
  },
  "language_info": {
   "codemirror_mode": {
    "name": "ipython",
    "version": 3
   },
   "file_extension": ".py",
   "mimetype": "text/x-python",
   "name": "python",
   "nbconvert_exporter": "python",
   "pygments_lexer": "ipython3",
   "version": "3.7.4"
  }
 },
 "nbformat": 4,
 "nbformat_minor": 2
}
