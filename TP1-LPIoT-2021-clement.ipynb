{
 "cells": [
  {
   "cell_type": "code",
   "execution_count": 1,
   "metadata": {},
   "outputs": [],
   "source": [
    "# on importe les librairies dont on aura besoin\n",
    "from pandas import * # pour manipuler des tableaux de données \n",
    "from numpy import *  # pour faire du calcul numérique\n",
    "from matplotlib.pylab import * # pour tracer des graphiques"
   ]
  },
  {
   "cell_type": "markdown",
   "metadata": {},
   "source": [
    "# Rappels en python"
   ]
  },
  {
   "cell_type": "markdown",
   "metadata": {},
   "source": [
    "- On peut déclarer un vecteur ou une matrice via la commande `array`. \n",
    "- On peut ensuite extraire des valeurs, des lignes ou des colonnes (ATTENTION: la numérotation débute à zéro, et -1 signifie le dernier élément).\n",
    "- La longueur d'un vecteur est donnée par la commande `len`, et le format d'une matrice par `shape`.\n",
    "- Une matrice peut être initialisée par une matrice remplie de zéros via la commande `zeros` (ATTENTION aux parenthèses).\n",
    "- On peut sommer tous les élements d'un vecteur via la commande `sum`.\n",
    "- On peut transposer un vecteur ou une matrice via la commande `.T`, \n",
    "- On effectue le produit matriciel de deux matrices via la commande `dot( , )` (quand le produit est valide)."
   ]
  },
  {
   "cell_type": "code",
   "execution_count": 2,
   "metadata": {},
   "outputs": [
    {
     "name": "stdout",
     "output_type": "stream",
     "text": [
      "X =  [[1 3 1]]\n",
      "M = [[1 2 4]\n",
      " [9 1 2]]\n",
      "Elément en position (1,2) de M : 2\n",
      "Première ligne de M : [1 2 4]\n",
      "Première colonne de M : [1 9]\n",
      "Dernière colonne de M : [4 2]\n",
      "Longueur de X : 1\n",
      "Format de M : (2, 3) ; nbre de lignes de M : 2 ; nbre de colonnes de M : 3\n",
      "Matrice de zéros de format (5,3):\n",
      " [[0. 0. 0.]\n",
      " [0. 0. 0.]\n",
      " [0. 0. 0.]\n",
      " [0. 0. 0.]\n",
      " [0. 0. 0.]]\n",
      "Somme des éléments de X: 5 ; somme des éléments de M : 19\n",
      "Transposée de X = \n",
      " [[1]\n",
      " [3]\n",
      " [1]] \n",
      "Transposée de M = \n",
      " [[1 9]\n",
      " [2 1]\n",
      " [4 2]]\n",
      "Produit de M avec la transposée de X = \n",
      " [[11]\n",
      " [14]]\n"
     ]
    }
   ],
   "source": [
    "# exécuter l'ensemble des commandes ci-dessous avec [shift]+[entrée] pu [ctrl]+[entrée]\n",
    "X=array([[1,3,1]])\n",
    "M = array([[1,2,4],[9,1,2]])\n",
    "print(\"X = \",X)\n",
    "print(\"M =\",M)\n",
    "print('Elément en position (1,2) de M :', M[0,1])\n",
    "print('Première ligne de M :', M[0,:])\n",
    "print('Première colonne de M :', M[:,0])\n",
    "print('Dernière colonne de M :',M[:,-1])\n",
    "print('Longueur de X :', len(X))\n",
    "print('Format de M :', shape(M), '; nbre de lignes de M :',shape(M)[0],'; nbre de colonnes de M :',shape(M)[1])\n",
    "print('Matrice de zéros de format (5,3):\\n',  zeros((5,3)))\n",
    "print('Somme des éléments de X:', sum(X), '; somme des éléments de M :',sum(M))\n",
    "print(\"Transposée de X = \\n\",X.T,\"\\nTransposée de M = \\n\",M.T)\n",
    "print('Produit de M avec la transposée de X = \\n',dot(M,X.T))"
   ]
  },
  {
   "cell_type": "markdown",
   "metadata": {},
   "source": [
    "- On donne ci-dessous un exemple de courbe tracée avec Matplotlib."
   ]
  },
  {
   "cell_type": "code",
   "execution_count": 5,
   "metadata": {},
   "outputs": [
    {
     "data": {
      "image/png": "[encoded data removed]",
      "text/plain": [
       "<Figure size 432x288 with 1 Axes>"
      ]
     },
     "metadata": {
      "needs_background": "light"
     },
     "output_type": "display_data"
    }
   ],
   "source": [
    "figure(figsize=(6,4)) #on choisit la taille de la figure\n",
    "t = linspace(-pi,pi,100) # on subdivise l'axe des abscisses entre -pi et pi en 100 points équidistants\n",
    "plot(t,sin(t), color='red', label='Sinus')\n",
    "plot(t,cos(t), color='green', label='Cosinus')\n",
    "legend()\n",
    "title('Fonctions trigonométriques')\n",
    "xlabel('Temps')\n",
    "ylabel('Valeurs des fontions')\n",
    "show()"
   ]
  },
  {
   "cell_type": "markdown",
   "metadata": {},
   "source": [
    "# Ex 0 : Bac à sable pour les données 'jouet'"
   ]
  },
  {
   "cell_type": "code",
   "execution_count": 29,
   "metadata": {},
   "outputs": [
    {
     "name": "stdout",
     "output_type": "stream",
     "text": [
      "X=  [[12 16 14]\n",
      " [14 13 15]\n",
      " [ 8 11  8]\n",
      " [10  9  6]\n",
      " [16  6 17]]\n",
      "Coordonnées Alice=  [12 16 14]\n",
      "Coordonnées vecteur Info =  [12 14  8 10 16]\n",
      "moyenne Info = 12.0\n",
      "variance Info = 8.0\n",
      "ecart type Info = 2.8284271247461903\n",
      "moyenne gestion = 11.0\n",
      "variance gestion = 11.6\n",
      "ecart type gestion = 3.40587727318528\n",
      "moyenne maths = 12.0\n",
      "variance maths = 18.0\n",
      "ecart type maths = 4.242640687119285\n",
      "[12. 11. 12.]\n",
      "[14.         14.          9.          8.33333333 13.        ]\n",
      "Le centre de gravité =  [12. 11. 12.]\n",
      "[12. 11. 12.] [ 8.  11.6 18. ]\n",
      "Z=  [[ 0.          1.46805055  0.47140452]\n",
      " [ 0.70710678  0.58722022  0.70710678]\n",
      " [-1.41421356  0.         -0.94280904]\n",
      " [-0.70710678 -0.58722022 -1.41421356]\n",
      " [ 1.41421356 -1.46805055  1.1785113 ]]\n",
      "arrondi Z= [[ 0.  1.  0.]\n",
      " [ 1.  1.  1.]\n",
      " [-1.  0. -1.]\n",
      " [-1. -1. -1.]\n",
      " [ 1. -1.  1.]]\n",
      "Moyennes colonnes = 0 [ 0.0000000e+00 -4.4408921e-17  0.0000000e+00]\n",
      "variances colonnes= 1 [1. 1. 1.]\n"
     ]
    }
   ],
   "source": [
    "# à vous d'écrire ici les instructions nécessaires \n",
    "# pour obtenir les réponses aux questions du poly \n",
    "X=array([[12,16,14],[14,13,15],[8,11,8],[10,9,6],[16,6,17]])\n",
    "print(\"X= \", X)\n",
    "print(\"Coordonnées Alice= \", X[0,:])\n",
    "print(\"Coordonnées vecteur Info = \", X[:,0])\n",
    "print(\"moyenne Info =\", mean(X[:,0]))\n",
    "print(\"variance Info =\", var(X[:,0]))\n",
    "print(\"ecart type Info =\", sqrt(var(X[:,0])))\n",
    "print(\"moyenne gestion =\", mean(X[:,1]))\n",
    "print(\"variance gestion =\", var(X[:,1]))\n",
    "print(\"ecart type gestion =\", sqrt(var(X[:,1])))\n",
    "print(\"moyenne maths =\", mean(X[:,2]))\n",
    "print(\"variance maths =\", var(X[:,2]))\n",
    "print(\"ecart type maths =\", sqrt(var(X[:,2])))\n",
    "print(mean(X, axis=0)) #moyennes par colonne\n",
    "print(mean(X, axis=1)) #moyenne par ligne\n",
    "moy=mean(X,axis=0)\n",
    "print('Le centre de gravité = ', moy)\n",
    "variance=var(X,axis=0)\n",
    "print(moy, variance)\n",
    "#donnees centrees reduites\n",
    "Z=zeros(shape(X))\n",
    "for j in range(3):\n",
    "    Z[:,j]=(X[:,j]-moy[j])/sqrt(variance[j])\n",
    "    \n",
    "print(\"Z= \", Z)\n",
    "print(\"arrondi Z=\",around(Z)) #inutile, juste pr test\n",
    "print (\"Moyennes colonnes = 0\", mean(Z, axis=0))\n",
    "print (\"variances colonnes= 1\", var(Z, axis=0))"
   ]
  },
  {
   "cell_type": "code",
   "execution_count": 38,
   "metadata": {
    "scrolled": true
   },
   "outputs": [
    {
     "name": "stdout",
     "output_type": "stream",
     "text": [
      "covariance info et gestion :  -2.4000000000000057\n",
      "covariance info et info :  8.0\n",
      "correlation info et gestion :  -0.24913643956122047\n",
      "correlation info et info :  0.9999999999999998\n",
      "[[ 1.         -0.24913644  0.9       ]\n",
      " [-0.24913644  1.          0.04152274]\n",
      " [ 0.9         0.04152274  1.        ]]\n"
     ]
    }
   ],
   "source": [
    "#covariance, correlation\n",
    "#covariance de info et gestion\n",
    "sInfoGest=1/5*dot(X[:,0].T,X[:,1])-(mean(X[:,0])*mean(X[:,1]))\n",
    "sInfoInfo=1/5*dot(X[:,0].T,X[:,0])-(mean(X[:,0])*mean(X[:,0]))\n",
    "print(\"covariance info et gestion : \", sInfoGest)\n",
    "print(\"covariance info et info : \", sInfoInfo)\n",
    "#correlation de info et gestion\n",
    "rInfoGest=sInfoGest/(sqrt(var(X[:,0]))*sqrt(var(X[:,1])))\n",
    "print(\"correlation info et gestion : \", rInfoGest)\n",
    "rInfoInfo=sInfoInfo/(sqrt(var(X[:,0]))*sqrt(var(X[:,0])))\n",
    "print(\"correlation info et info : \", rInfoInfo)\n",
    "#matrice de correlation\n",
    "R=1/5*dot(Z.T,Z)\n",
    "print(R)\n"
   ]
  },
  {
   "cell_type": "markdown",
   "metadata": {},
   "source": [
    "# Ex 1 : Import et manipulation de données \n",
    "\n",
    "Un tableau de données est un objet appelé DataFrame sous Pandas. Nous allons utiliser quelques opérations de Pandas : importer un tableau excel, afficher les premières lignes du DataFrame, convertir le DataFrame en array pour pouvoir ensuite travailler avec NumPy.\n",
    "\n",
    "Dans le fichier `pib-mondial-par-annee.xls`, vous trouverez pour chaque année de 1965 à 2017 la consommation d'énergie primaire mondiale et le PIB mondial. Sources : https://data.worldbank.org/ pour le PIB mondial\n",
    "et https://www.bp.com/en/global/corporate/energy-economics/statistical-review-of-world-energy.html pour la consommation d'énergie."
   ]
  },
  {
   "cell_type": "code",
   "execution_count": 39,
   "metadata": {},
   "outputs": [
    {
     "data": {
      "text/html": [
       "<div>\n",
       "<style scoped>\n",
       "    .dataframe tbody tr th:only-of-type {\n",
       "        vertical-align: middle;\n",
       "    }\n",
       "\n",
       "    .dataframe tbody tr th {\n",
       "        vertical-align: top;\n",
       "    }\n",
       "\n",
       "    .dataframe thead th {\n",
       "        text-align: right;\n",
       "    }\n",
       "</style>\n",
       "<table border=\"1\" class=\"dataframe\">\n",
       "  <thead>\n",
       "    <tr style=\"text-align: right;\">\n",
       "      <th></th>\n",
       "      <th>Annees</th>\n",
       "      <th>PIB mondial (current US$)</th>\n",
       "      <th>Consommation d’energie primaire (Million de tonne d’équivalent pétrole)</th>\n",
       "    </tr>\n",
       "  </thead>\n",
       "  <tbody>\n",
       "    <tr>\n",
       "      <th>0</th>\n",
       "      <td>1965</td>\n",
       "      <td>1.960681e+12</td>\n",
       "      <td>3701.518331</td>\n",
       "    </tr>\n",
       "    <tr>\n",
       "      <th>1</th>\n",
       "      <td>1966</td>\n",
       "      <td>2.127233e+12</td>\n",
       "      <td>3902.368110</td>\n",
       "    </tr>\n",
       "    <tr>\n",
       "      <th>2</th>\n",
       "      <td>1967</td>\n",
       "      <td>2.263327e+12</td>\n",
       "      <td>4049.780312</td>\n",
       "    </tr>\n",
       "    <tr>\n",
       "      <th>3</th>\n",
       "      <td>1968</td>\n",
       "      <td>2.441774e+12</td>\n",
       "      <td>4295.420358</td>\n",
       "    </tr>\n",
       "    <tr>\n",
       "      <th>4</th>\n",
       "      <td>1969</td>\n",
       "      <td>2.689118e+12</td>\n",
       "      <td>4589.726510</td>\n",
       "    </tr>\n",
       "  </tbody>\n",
       "</table>\n",
       "</div>"
      ],
      "text/plain": [
       "   Annees  PIB mondial (current US$)  \\\n",
       "0    1965               1.960681e+12   \n",
       "1    1966               2.127233e+12   \n",
       "2    1967               2.263327e+12   \n",
       "3    1968               2.441774e+12   \n",
       "4    1969               2.689118e+12   \n",
       "\n",
       "   Consommation d’energie primaire (Million de tonne d’équivalent pétrole)  \n",
       "0                                        3701.518331                        \n",
       "1                                        3902.368110                        \n",
       "2                                        4049.780312                        \n",
       "3                                        4295.420358                        \n",
       "4                                        4589.726510                        "
      ]
     },
     "execution_count": 39,
     "metadata": {},
     "output_type": "execute_result"
    }
   ],
   "source": [
    "# importation d'un tableau excel\n",
    "df = read_excel('pib-mondial-par-annee.xls')\n",
    "# le tableur excel est converti en un objet DataFrame\n",
    "type(df)\n",
    "# affichage des premières lignes du DataFrame\n",
    "df.head()"
   ]
  },
  {
   "cell_type": "code",
   "execution_count": 64,
   "metadata": {},
   "outputs": [
    {
     "name": "stdout",
     "output_type": "stream",
     "text": [
      "(3,)\n"
     ]
    }
   ],
   "source": [
    "# on ne garde que les valeurs du tableau\n",
    "data = df.values\n",
    "# data est maintenant un array\n",
    "type(data)\n",
    "#print(data)\n",
    "print(shape(data))\n"
   ]
  },
  {
   "cell_type": "markdown",
   "metadata": {},
   "source": [
    "**Question 1** : Tracez en fonction des années le PIB mondial en rouge et la consommation d'énergie primaire en bleu. On multipliera le PIB par un facteur $10^{-10}$ pour que les deux courbes soient lisibles sur un même graphique."
   ]
  },
  {
   "cell_type": "code",
   "execution_count": 67,
   "metadata": {},
   "outputs": [
    {
     "data": {
      "image/png": "[encoded data removed]",
      "text/plain": [
       "<Figure size 720x720 with 1 Axes>"
      ]
     },
     "metadata": {
      "needs_background": "light"
     },
     "output_type": "display_data"
    }
   ],
   "source": [
    "figure(figsize=(10,10)) #on choisit la taille de la figure\n",
    "#t = linspace(data[0,0],data[-1,0],53)\n",
    "t = data[:,0]\n",
    "plot(t,data[:,1]*10**(-10), color='red', label='PIB')\n",
    "plot(t,data[:,2], color='blue', label='Consommation d energie primaire')\n",
    "legend()\n",
    "title('pib et conso d energie')\n",
    "xlabel('Années')\n",
    "show()"
   ]
  },
  {
   "cell_type": "markdown",
   "metadata": {},
   "source": [
    "**Question 2 :** Représentez chaque année par un point dans le plan ayant pour abscisse l'énergie et pour ordonnée le PIB.\n",
    "\n",
    "*Pour tracer des points sans les relier, on pourra utiliser la commande `scatter`.*"
   ]
  },
  {
   "cell_type": "code",
   "execution_count": 59,
   "metadata": {},
   "outputs": [
    {
     "data": {
      "image/png": "[encoded data removed]",
      "text/plain": [
       "<Figure size 432x288 with 1 Axes>"
      ]
     },
     "metadata": {
      "needs_background": "light"
     },
     "output_type": "display_data"
    }
   ],
   "source": [
    "scatter(data[:,2], data[:,1])\n",
    "show()"
   ]
  },
  {
   "cell_type": "markdown",
   "metadata": {},
   "source": [
    "**Question :** Que remarque-t-on ? Peut-on, à partir de ce graphe, conclure à un lien de causalité entre le PIB et l'énergie ou inversement ?"
   ]
  },
  {
   "cell_type": "code",
   "execution_count": 69,
   "metadata": {},
   "outputs": [
    {
     "data": {
      "text/plain": [
       "'pas specialement'"
      ]
     },
     "execution_count": 69,
     "metadata": {},
     "output_type": "execute_result"
    }
   ],
   "source": [
    "\"pas specialement\""
   ]
  },
  {
   "cell_type": "markdown",
   "metadata": {},
   "source": [
    "# Ex 2 : Prix d'un appartement"
   ]
  },
  {
   "cell_type": "markdown",
   "metadata": {},
   "source": [
    "Nous avons relevé sur le site `seloger.com` les prix et les surfaces de dix appartements du 16ème arrondissement de Paris :\n",
    "\n",
    "-surfaces (en $m^2$) : $(77,94,89,135,172,106,196,110,284,285)$\n",
    "\n",
    "-prix (en milliers d'euros) : $(624,895,1160,1629,1715,1845,2349,2580,3610,5775)$"
   ]
  },
  {
   "cell_type": "markdown",
   "metadata": {},
   "source": [
    "**Question 1.** On note $X$ la variable aléatoire de la surface d'un appartement et $Y$ celle de son prix.\n",
    "Représenter les $10$ réalisations de $X$ et $Y$ sous la forme de deux vecteurs colonnes $x$ et $y$. Aidez-vous de ce qui a déjà été saisi !"
   ]
  },
  {
   "cell_type": "code",
   "execution_count": 72,
   "metadata": {},
   "outputs": [
    {
     "data": {
      "text/plain": [
       "array([[ 624],\n",
       "       [ 895],\n",
       "       [1160],\n",
       "       [1629],\n",
       "       [1715],\n",
       "       [1845],\n",
       "       [2349],\n",
       "       [2580],\n",
       "       [3610],\n",
       "       [5775]])"
      ]
     },
     "execution_count": 72,
     "metadata": {},
     "output_type": "execute_result"
    }
   ],
   "source": [
    "x=array([[77,94,89,135,172,106,196,110,284,285]])\n",
    "y=array([[624,895,1160,1629,1715,1845,2349,2580,3610,5775]])\n",
    "X=x.T\n",
    "Y=y.T\n"
   ]
  },
  {
   "cell_type": "markdown",
   "metadata": {},
   "source": [
    "**Question 2.** Représenter chaque appartement par un point dans le repère d'abscisse surfaces et d'ordonnée prix. Cet ensemble de points est appelé le nuage points-individus."
   ]
  },
  {
   "cell_type": "code",
   "execution_count": 79,
   "metadata": {},
   "outputs": [
    {
     "name": "stderr",
     "output_type": "stream",
     "text": [
      "No handles with labels found to put in legend.\n"
     ]
    },
    {
     "data": {
      "image/png": "[encoded data removed]",
      "text/plain": [
       "<Figure size 432x288 with 1 Axes>"
      ]
     },
     "metadata": {
      "needs_background": "light"
     },
     "output_type": "display_data"
    }
   ],
   "source": [
    "scatter(X[:], Y[:],c='red',marker='s')\n",
    "legend()\n",
    "xlabel('surface')\n",
    "ylabel('prix en k€')\n",
    "show()"
   ]
  },
  {
   "cell_type": "markdown",
   "metadata": {},
   "source": [
    "**Question 3.** Calculer les moyennes de $X$ et de $Y$, notées `mx` et `my`, en utilisant la commande `mean`. Représenter sur le graphique précédent le centre de gravité G du nuage; ce point a pour coordonnées (mx,my). "
   ]
  },
  {
   "cell_type": "code",
   "execution_count": null,
   "metadata": {},
   "outputs": [],
   "source": []
  },
  {
   "cell_type": "markdown",
   "metadata": {},
   "source": [
    "**Question 4.** Calculer la variance de $X$ et la variance de $Y$, notées `vx` et `vy` en utilisant la commande `var`. En déduire l'écart-type de $X$ et l'écart-type de $Y$, notés `sx` et `sy`. Recalculer les écarts-types de $X$ et $Y$ en utilisant la commande `std` et comparer."
   ]
  },
  {
   "cell_type": "code",
   "execution_count": null,
   "metadata": {},
   "outputs": [],
   "source": []
  },
  {
   "cell_type": "markdown",
   "metadata": {},
   "source": [
    "**Question 5.** Calculer la covariance entre $X$ et $Y$, notée `sxy`. Recalculer ensuite cette covariance en utilisant la commande `cov(x,y)`, puis en utilisant la commande `cov(x,y,rowvar =False,bias=True)`. Comparer."
   ]
  },
  {
   "cell_type": "code",
   "execution_count": null,
   "metadata": {},
   "outputs": [],
   "source": []
  },
  {
   "cell_type": "markdown",
   "metadata": {},
   "source": [
    "**Question 6.** Déduire des questions précédentes le coefficient de corrélation entre $X$ et $Y$, noté `rxy`. Recalculer ensuite ce coefficient de corrélation en utilisant la commande `corrcoef(x,y,rowvar =False)` et comparer."
   ]
  },
  {
   "cell_type": "code",
   "execution_count": null,
   "metadata": {},
   "outputs": [],
   "source": []
  },
  {
   "cell_type": "markdown",
   "metadata": {},
   "source": [
    "**Question 7.** Donner l'équation de la droite de régression de $Y$ en fonction de $X$.\n",
    "\n",
    "*Pour extraire la valeur numérique d'un array `A` de format $1\\times 1$, on peut utiliser `A[0,0]`.*"
   ]
  },
  {
   "cell_type": "code",
   "execution_count": null,
   "metadata": {},
   "outputs": [],
   "source": []
  },
  {
   "cell_type": "markdown",
   "metadata": {},
   "source": [
    "**Question 8.** Sur un même graphique, représenter le nuage de points-individus en bleu, le centre de gravité en noir et la droite de régression en rouge. Nommer les axes, la droite, le centre de gravité et le graphique."
   ]
  },
  {
   "cell_type": "code",
   "execution_count": null,
   "metadata": {},
   "outputs": [],
   "source": []
  },
  {
   "cell_type": "markdown",
   "metadata": {},
   "source": [
    "**Question 9**. Prédire le prix d'un appartement de $40~m^2$. "
   ]
  },
  {
   "cell_type": "code",
   "execution_count": null,
   "metadata": {},
   "outputs": [],
   "source": []
  },
  {
   "cell_type": "markdown",
   "metadata": {},
   "source": [
    "# Exercice 2 (Régression clef en main)"
   ]
  },
  {
   "cell_type": "markdown",
   "metadata": {},
   "source": [
    "**Question 1**. Construire une fonction `cov` qui renvoie la covariance entre deux vecteurs colonnes de données $x$ et $y$. **Testez** votre fonction avant de continuer !"
   ]
  },
  {
   "cell_type": "code",
   "execution_count": null,
   "metadata": {},
   "outputs": [],
   "source": []
  },
  {
   "cell_type": "markdown",
   "metadata": {},
   "source": [
    "**Question 2.** Construire une fonction `reg` qui prend en entrée deux vecteurs de données $x$ et $y$ et renvoie les paramètres $a,b$ de la droite des moindres carrés de $y$ en fonction de $x$. **Testez** votre fonction avant de continuer !"
   ]
  },
  {
   "cell_type": "code",
   "execution_count": null,
   "metadata": {},
   "outputs": [],
   "source": []
  },
  {
   "cell_type": "markdown",
   "metadata": {},
   "source": [
    "**Question 3**. Construire une fonction `affiche_reg` qui prend en entrée $x$ et $y$ et affiche le nuage de points avec le centre de gravité et la droite de régression. On utilisera des couleurs différentes pour le nuage de points et la régression. \n",
    "**Testez** votre fonction avant de continuer !"
   ]
  },
  {
   "cell_type": "code",
   "execution_count": null,
   "metadata": {},
   "outputs": [],
   "source": []
  },
  {
   "cell_type": "markdown",
   "metadata": {},
   "source": [
    "# Exercice 3 (Données centrées réduites et matrice de corrélation)"
   ]
  },
  {
   "cell_type": "markdown",
   "metadata": {},
   "source": [
    "On dipose de la moyenne générale et des moyennes des trois UE du semestre 3 de 5 étudiants \n",
    "tirés au hasard.\n",
    "\n",
    "| Informatique  | Culture scientifique, sociale et humaine | Méthodologie et projets  | Moyenne générale|\n",
    "|---|---|---|---|\n",
    "| 10.83  | 12.43  |  14.88 |  12.28 |\n",
    "|  12.22 | 13.69  | 11.92  |  12.75 |\n",
    "| 9.84  | 10.88  | 15.38  |  11.36 |\n",
    "|  12.81 | 12.12  | 15.21  |  13.02 |\n",
    "| 10.31  |  10.88 | 16.42  |  11.76 |\n",
    "\n",
    "**ATTENTION :** ici l'échantillon de taille 5 est trop petit pour que l'on puisse généraliser \n",
    "nos observations à toute une promo. Nous avons choisi cette taille pour que l'exercice soit plus visuel."
   ]
  },
  {
   "cell_type": "markdown",
   "metadata": {},
   "source": [
    "On représente ce tableau de données sous la forme d'une matrice M (en ligne les individus, en colonne les caractères)."
   ]
  },
  {
   "cell_type": "code",
   "execution_count": null,
   "metadata": {},
   "outputs": [],
   "source": [
    "M = array([[10.83,12.43 ,14.88 ,12.28],\n",
    "          [12.22 ,13.69 ,11.92,12.75],\n",
    "          [9.84 ,10.88 ,15.38 ,11.36],\n",
    "          [12.81 ,12.12 ,15.21 ,13.02],\n",
    "          [10.31 ,10.88 ,16.42 ,11.76]])\n",
    "print(M)"
   ]
  },
  {
   "cell_type": "markdown",
   "metadata": {},
   "source": [
    "**Question 1.** A partir de la matrice `M` des données, stocker dans la variable `n` le nombre d'individus et dans la variable `p` le nombre de variables. Calculer le vecteur `Moy` (de longueur `p`) qui contient la moyenne de chacune des variables ainsi que le vecteur `var` qui contient le variance de chacune des variables. \n",
    "\n",
    "*On pourra utiliser la commande `mean(M,axis=0)` qui calcule le vecteur contenant les moyennes de chaque colonne de $M$.*"
   ]
  },
  {
   "cell_type": "code",
   "execution_count": null,
   "metadata": {},
   "outputs": [],
   "source": []
  },
  {
   "cell_type": "markdown",
   "metadata": {},
   "source": [
    "**Question 2.** Calculer la matrice centrée réduite $Z$. Vérifier que la moyenne de chaque colonne vaut $0$, et que la variance de chaque colonne vaut $1$. "
   ]
  },
  {
   "cell_type": "code",
   "execution_count": null,
   "metadata": {},
   "outputs": [],
   "source": []
  },
  {
   "cell_type": "markdown",
   "metadata": {
    "collapsed": true
   },
   "source": [
    "**Question 3.** En déduire la matrice de corrélation $R$ de $M$ en utilisant la formule $R=\\frac 1n ^t\\!ZZ$. Commenter."
   ]
  },
  {
   "cell_type": "code",
   "execution_count": null,
   "metadata": {},
   "outputs": [],
   "source": []
  },
  {
   "cell_type": "markdown",
   "metadata": {},
   "source": [
    "**Question 5.** Utiliser les résultats numériques obtenus pour calculer les coefficients de la droite de régression de la moyenne générale en fonction de l'UE Informatique. Représenter sur un même graphique la droite de régression et le nuage de point des individus."
   ]
  },
  {
   "cell_type": "code",
   "execution_count": null,
   "metadata": {},
   "outputs": [],
   "source": []
  }
 ],
 "metadata": {
  "kernelspec": {
   "display_name": "Python 3",
   "language": "python",
   "name": "python3"
  },
  "language_info": {
   "codemirror_mode": {
    "name": "ipython",
    "version": 3
   },
   "file_extension": ".py",
   "mimetype": "text/x-python",
   "name": "python",
   "nbconvert_exporter": "python",
   "pygments_lexer": "ipython3",
   "version": "3.7.6"
  }
 },
 "nbformat": 4,
 "nbformat_minor": 2
}
