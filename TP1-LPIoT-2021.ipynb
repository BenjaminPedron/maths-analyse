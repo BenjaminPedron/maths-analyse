{
 "cells": [
  {
   "cell_type": "code",
   "execution_count": 5,
   "metadata": {},
   "outputs": [],
   "source": [
    "# on importe les librairies dont on aura besoin\n",
    "from pandas import * # pour manipuler des tableaux de données \n",
    "from numpy import *  # pour faire du calcul numérique\n",
    "from matplotlib.pylab import * # pour tracer des graphiques"
   ]
  },
  {
   "cell_type": "markdown",
   "metadata": {},
   "source": [
    "# Rappels en python"
   ]
  },
  {
   "cell_type": "markdown",
   "metadata": {},
   "source": [
    "- On peut déclarer un vecteur ou une matrice via la commande `array`. \n",
    "- On peut ensuite extraire des valeurs, des lignes ou des colonnes (ATTENTION: la numérotation débute à zéro, et -1 signifie le dernier élément).\n",
    "- La longueur d'un vecteur est donnée par la commande `len`, et le format d'une matrice par `shape`.\n",
    "- Une matrice peut être initialisée par une matrice remplie de zéros via la commande `zeros` (ATTENTION aux parenthèses).\n",
    "- On peut sommer tous les élements d'un vecteur via la commande `sum`.\n",
    "- On peut transposer un vecteur ou une matrice via la commande `.T`, \n",
    "- On effectue le produit matriciel de deux matrices via la commande `dot( , )` (quand le produit est valide)."
   ]
  },
  {
   "cell_type": "code",
   "execution_count": 6,
   "metadata": {},
   "outputs": [
    {
     "output_type": "stream",
     "name": "stdout",
     "text": [
      "X =  [[1 3 1]]\nM = [[1 2 4]\n [9 1 2]]\nElément en position (1,2) de M : 2\nPremière ligne de M : [1 2 4]\nPremière colonne de M : [1 9]\nDernière colonne de M : [4 2]\nLongueur de X : 1\nFormat de M : (2, 3) ; nbre de lignes de M : 2 ; nbre de colonnes de M : 3\nMatrice de zéros de format (5,3):\n [[0. 0. 0.]\n [0. 0. 0.]\n [0. 0. 0.]\n [0. 0. 0.]\n [0. 0. 0.]]\nSomme des éléments de X: 5 ; somme des éléments de M : 19\nTransposée de X = \n [[1]\n [3]\n [1]] \nTransposée de M = \n [[1 9]\n [2 1]\n [4 2]]\nProduit de M avec la transposée de X = \n [[11]\n [14]]\n"
     ]
    }
   ],
   "source": [
    "# exécuter l'ensemble des commandes ci-dessous avec [shift]+[entrée] pu [ctrl]+[entrée]\n",
    "X=array([[1,3,1]])\n",
    "M = array([[1,2,4],[9,1,2]])\n",
    "print(\"X = \",X)\n",
    "print(\"M =\",M)\n",
    "print('Elément en position (1,2) de M :', M[0,1])\n",
    "print('Première ligne de M :', M[0,:])\n",
    "print('Première colonne de M :', M[:,0])\n",
    "print('Dernière colonne de M :',M[:,-1])\n",
    "print('Longueur de X :', len(X))\n",
    "print('Format de M :', shape(M), '; nbre de lignes de M :',shape(M)[0],'; nbre de colonnes de M :',shape(M)[1])\n",
    "print('Matrice de zéros de format (5,3):\\n',  zeros((5,3)))\n",
    "print('Somme des éléments de X:', sum(X), '; somme des éléments de M :',sum(M))\n",
    "print(\"Transposée de X = \\n\",X.T,\"\\nTransposée de M = \\n\",M.T)\n",
    "print('Produit de M avec la transposée de X = \\n',dot(M,X.T))"
   ]
  },
  {
   "cell_type": "markdown",
   "metadata": {},
   "source": [
    "- On donne ci-dessous un exemple de courbe tracée avec Matplotlib."
   ]
  },
  {
   "cell_type": "code",
   "execution_count": 7,
   "metadata": {},
   "outputs": [
    {
     "output_type": "display_data",
     "data": {
      "text/plain": "<Figure size 432x288 with 1 Axes>",
      "image/svg+xml": "<?xml version=\"1.0\" encoding=\"utf-8\" standalone=\"no\"?>\r\n<!DOCTYPE svg PUBLIC \"-//W3C//DTD SVG 1.1//EN\"\r\n  \"http://www.w3.org/Graphics/SVG/1.1/DTD/svg11.dtd\">\r\n<svg height=\"277.794375pt\" version=\"1.1\" viewBox=\"0 0 400.523437 277.794375\" width=\"400.523437pt\" xmlns=\"http://www.w3.org/2000/svg\" xmlns:xlink=\"http://www.w3.org/1999/xlink\">\r\n <metadata>\r\n  <rdf:RDF xmlns:cc=\"http://creativecommons.org/ns#\" xmlns:dc=\"http://purl.org/dc/elements/1.1/\" xmlns:rdf=\"http://www.w3.org/1999/02/22-rdf-syntax-ns#\">\r\n   <cc:Work>\r\n    <dc:type rdf:resource=\"http://purl.org/dc/dcmitype/StillImage\"/>\r\n    <dc:date>2021-04-01T09:50:16.501083</dc:date>\r\n    <dc:format>image/svg+xml</dc:format>\r\n    <dc:creator>\r\n     <cc:Agent>\r\n      <dc:title>Matplotlib v3.4.0, https://matplotlib.org/</dc:title>\r\n     </cc:Agent>\r\n    </dc:creator>\r\n   </cc:Work>\r\n  </rdf:RDF>\r\n </metadata>\r\n <defs>\r\n  <style type=\"text/css\">*{stroke-linecap:butt;stroke-linejoin:round;}</style>\r\n </defs>\r\n <g id=\"figure_1\">\r\n  <g id=\"patch_1\">\r\n   <path d=\"M 0 277.794375 \r\nL 400.523437 277.794375 \r\nL 400.523437 0 \r\nL 0 0 \r\nz\r\n\" style=\"fill:none;\"/>\r\n  </g>\r\n  <g id=\"axes_1\">\r\n   <g id=\"patch_2\">\r\n    <path d=\"M 58.523438 240.238125 \r\nL 393.323438 240.238125 \r\nL 393.323438 22.798125 \r\nL 58.523438 22.798125 \r\nz\r\n\" style=\"fill:#ffffff;\"/>\r\n   </g>\r\n   <g id=\"matplotlib.axis_1\">\r\n    <g id=\"xtick_1\">\r\n     <g id=\"line2d_1\">\r\n      <defs>\r\n       <path d=\"M 0 0 \r\nL 0 3.5 \r\n\" id=\"m90e31d9f4c\" style=\"stroke:#000000;stroke-width:0.8;\"/>\r\n      </defs>\r\n      <g>\r\n       <use style=\"stroke:#000000;stroke-width:0.8;\" x=\"80.600506\" xlink:href=\"#m90e31d9f4c\" y=\"240.238125\"/>\r\n      </g>\r\n     </g>\r\n     <g id=\"text_1\">\r\n      <!-- −3 -->\r\n      <g transform=\"translate(73.229412 254.836563)scale(0.1 -0.1)\">\r\n       <defs>\r\n        <path d=\"M 678 2272 \r\nL 4684 2272 \r\nL 4684 1741 \r\nL 678 1741 \r\nL 678 2272 \r\nz\r\n\" id=\"DejaVuSans-2212\" transform=\"scale(0.015625)\"/>\r\n        <path d=\"M 2597 2516 \r\nQ 3050 2419 3304 2112 \r\nQ 3559 1806 3559 1356 \r\nQ 3559 666 3084 287 \r\nQ 2609 -91 1734 -91 \r\nQ 1441 -91 1130 -33 \r\nQ 819 25 488 141 \r\nL 488 750 \r\nQ 750 597 1062 519 \r\nQ 1375 441 1716 441 \r\nQ 2309 441 2620 675 \r\nQ 2931 909 2931 1356 \r\nQ 2931 1769 2642 2001 \r\nQ 2353 2234 1838 2234 \r\nL 1294 2234 \r\nL 1294 2753 \r\nL 1863 2753 \r\nQ 2328 2753 2575 2939 \r\nQ 2822 3125 2822 3475 \r\nQ 2822 3834 2567 4026 \r\nQ 2313 4219 1838 4219 \r\nQ 1578 4219 1281 4162 \r\nQ 984 4106 628 3988 \r\nL 628 4550 \r\nQ 988 4650 1302 4700 \r\nQ 1616 4750 1894 4750 \r\nQ 2613 4750 3031 4423 \r\nQ 3450 4097 3450 3541 \r\nQ 3450 3153 3228 2886 \r\nQ 3006 2619 2597 2516 \r\nz\r\n\" id=\"DejaVuSans-33\" transform=\"scale(0.015625)\"/>\r\n       </defs>\r\n       <use xlink:href=\"#DejaVuSans-2212\"/>\r\n       <use x=\"83.789062\" xlink:href=\"#DejaVuSans-33\"/>\r\n      </g>\r\n     </g>\r\n    </g>\r\n    <g id=\"xtick_2\">\r\n     <g id=\"line2d_2\">\r\n      <g>\r\n       <use style=\"stroke:#000000;stroke-width:0.8;\" x=\"129.041483\" xlink:href=\"#m90e31d9f4c\" y=\"240.238125\"/>\r\n      </g>\r\n     </g>\r\n     <g id=\"text_2\">\r\n      <!-- −2 -->\r\n      <g transform=\"translate(121.670389 254.836563)scale(0.1 -0.1)\">\r\n       <defs>\r\n        <path d=\"M 1228 531 \r\nL 3431 531 \r\nL 3431 0 \r\nL 469 0 \r\nL 469 531 \r\nQ 828 903 1448 1529 \r\nQ 2069 2156 2228 2338 \r\nQ 2531 2678 2651 2914 \r\nQ 2772 3150 2772 3378 \r\nQ 2772 3750 2511 3984 \r\nQ 2250 4219 1831 4219 \r\nQ 1534 4219 1204 4116 \r\nQ 875 4013 500 3803 \r\nL 500 4441 \r\nQ 881 4594 1212 4672 \r\nQ 1544 4750 1819 4750 \r\nQ 2544 4750 2975 4387 \r\nQ 3406 4025 3406 3419 \r\nQ 3406 3131 3298 2873 \r\nQ 3191 2616 2906 2266 \r\nQ 2828 2175 2409 1742 \r\nQ 1991 1309 1228 531 \r\nz\r\n\" id=\"DejaVuSans-32\" transform=\"scale(0.015625)\"/>\r\n       </defs>\r\n       <use xlink:href=\"#DejaVuSans-2212\"/>\r\n       <use x=\"83.789062\" xlink:href=\"#DejaVuSans-32\"/>\r\n      </g>\r\n     </g>\r\n    </g>\r\n    <g id=\"xtick_3\">\r\n     <g id=\"line2d_3\">\r\n      <g>\r\n       <use style=\"stroke:#000000;stroke-width:0.8;\" x=\"177.48246\" xlink:href=\"#m90e31d9f4c\" y=\"240.238125\"/>\r\n      </g>\r\n     </g>\r\n     <g id=\"text_3\">\r\n      <!-- −1 -->\r\n      <g transform=\"translate(170.111367 254.836563)scale(0.1 -0.1)\">\r\n       <defs>\r\n        <path d=\"M 794 531 \r\nL 1825 531 \r\nL 1825 4091 \r\nL 703 3866 \r\nL 703 4441 \r\nL 1819 4666 \r\nL 2450 4666 \r\nL 2450 531 \r\nL 3481 531 \r\nL 3481 0 \r\nL 794 0 \r\nL 794 531 \r\nz\r\n\" id=\"DejaVuSans-31\" transform=\"scale(0.015625)\"/>\r\n       </defs>\r\n       <use xlink:href=\"#DejaVuSans-2212\"/>\r\n       <use x=\"83.789062\" xlink:href=\"#DejaVuSans-31\"/>\r\n      </g>\r\n     </g>\r\n    </g>\r\n    <g id=\"xtick_4\">\r\n     <g id=\"line2d_4\">\r\n      <g>\r\n       <use style=\"stroke:#000000;stroke-width:0.8;\" x=\"225.923438\" xlink:href=\"#m90e31d9f4c\" y=\"240.238125\"/>\r\n      </g>\r\n     </g>\r\n     <g id=\"text_4\">\r\n      <!-- 0 -->\r\n      <g transform=\"translate(222.742188 254.836563)scale(0.1 -0.1)\">\r\n       <defs>\r\n        <path d=\"M 2034 4250 \r\nQ 1547 4250 1301 3770 \r\nQ 1056 3291 1056 2328 \r\nQ 1056 1369 1301 889 \r\nQ 1547 409 2034 409 \r\nQ 2525 409 2770 889 \r\nQ 3016 1369 3016 2328 \r\nQ 3016 3291 2770 3770 \r\nQ 2525 4250 2034 4250 \r\nz\r\nM 2034 4750 \r\nQ 2819 4750 3233 4129 \r\nQ 3647 3509 3647 2328 \r\nQ 3647 1150 3233 529 \r\nQ 2819 -91 2034 -91 \r\nQ 1250 -91 836 529 \r\nQ 422 1150 422 2328 \r\nQ 422 3509 836 4129 \r\nQ 1250 4750 2034 4750 \r\nz\r\n\" id=\"DejaVuSans-30\" transform=\"scale(0.015625)\"/>\r\n       </defs>\r\n       <use xlink:href=\"#DejaVuSans-30\"/>\r\n      </g>\r\n     </g>\r\n    </g>\r\n    <g id=\"xtick_5\">\r\n     <g id=\"line2d_5\">\r\n      <g>\r\n       <use style=\"stroke:#000000;stroke-width:0.8;\" x=\"274.364415\" xlink:href=\"#m90e31d9f4c\" y=\"240.238125\"/>\r\n      </g>\r\n     </g>\r\n     <g id=\"text_5\">\r\n      <!-- 1 -->\r\n      <g transform=\"translate(271.183165 254.836563)scale(0.1 -0.1)\">\r\n       <use xlink:href=\"#DejaVuSans-31\"/>\r\n      </g>\r\n     </g>\r\n    </g>\r\n    <g id=\"xtick_6\">\r\n     <g id=\"line2d_6\">\r\n      <g>\r\n       <use style=\"stroke:#000000;stroke-width:0.8;\" x=\"322.805392\" xlink:href=\"#m90e31d9f4c\" y=\"240.238125\"/>\r\n      </g>\r\n     </g>\r\n     <g id=\"text_6\">\r\n      <!-- 2 -->\r\n      <g transform=\"translate(319.624142 254.836563)scale(0.1 -0.1)\">\r\n       <use xlink:href=\"#DejaVuSans-32\"/>\r\n      </g>\r\n     </g>\r\n    </g>\r\n    <g id=\"xtick_7\">\r\n     <g id=\"line2d_7\">\r\n      <g>\r\n       <use style=\"stroke:#000000;stroke-width:0.8;\" x=\"371.246369\" xlink:href=\"#m90e31d9f4c\" y=\"240.238125\"/>\r\n      </g>\r\n     </g>\r\n     <g id=\"text_7\">\r\n      <!-- 3 -->\r\n      <g transform=\"translate(368.065119 254.836563)scale(0.1 -0.1)\">\r\n       <use xlink:href=\"#DejaVuSans-33\"/>\r\n      </g>\r\n     </g>\r\n    </g>\r\n    <g id=\"text_8\">\r\n     <!-- Temps -->\r\n     <g transform=\"translate(209.99375 268.514687)scale(0.1 -0.1)\">\r\n      <defs>\r\n       <path d=\"M -19 4666 \r\nL 3928 4666 \r\nL 3928 4134 \r\nL 2272 4134 \r\nL 2272 0 \r\nL 1638 0 \r\nL 1638 4134 \r\nL -19 4134 \r\nL -19 4666 \r\nz\r\n\" id=\"DejaVuSans-54\" transform=\"scale(0.015625)\"/>\r\n       <path d=\"M 3597 1894 \r\nL 3597 1613 \r\nL 953 1613 \r\nQ 991 1019 1311 708 \r\nQ 1631 397 2203 397 \r\nQ 2534 397 2845 478 \r\nQ 3156 559 3463 722 \r\nL 3463 178 \r\nQ 3153 47 2828 -22 \r\nQ 2503 -91 2169 -91 \r\nQ 1331 -91 842 396 \r\nQ 353 884 353 1716 \r\nQ 353 2575 817 3079 \r\nQ 1281 3584 2069 3584 \r\nQ 2775 3584 3186 3129 \r\nQ 3597 2675 3597 1894 \r\nz\r\nM 3022 2063 \r\nQ 3016 2534 2758 2815 \r\nQ 2500 3097 2075 3097 \r\nQ 1594 3097 1305 2825 \r\nQ 1016 2553 972 2059 \r\nL 3022 2063 \r\nz\r\n\" id=\"DejaVuSans-65\" transform=\"scale(0.015625)\"/>\r\n       <path d=\"M 3328 2828 \r\nQ 3544 3216 3844 3400 \r\nQ 4144 3584 4550 3584 \r\nQ 5097 3584 5394 3201 \r\nQ 5691 2819 5691 2113 \r\nL 5691 0 \r\nL 5113 0 \r\nL 5113 2094 \r\nQ 5113 2597 4934 2840 \r\nQ 4756 3084 4391 3084 \r\nQ 3944 3084 3684 2787 \r\nQ 3425 2491 3425 1978 \r\nL 3425 0 \r\nL 2847 0 \r\nL 2847 2094 \r\nQ 2847 2600 2669 2842 \r\nQ 2491 3084 2119 3084 \r\nQ 1678 3084 1418 2786 \r\nQ 1159 2488 1159 1978 \r\nL 1159 0 \r\nL 581 0 \r\nL 581 3500 \r\nL 1159 3500 \r\nL 1159 2956 \r\nQ 1356 3278 1631 3431 \r\nQ 1906 3584 2284 3584 \r\nQ 2666 3584 2933 3390 \r\nQ 3200 3197 3328 2828 \r\nz\r\n\" id=\"DejaVuSans-6d\" transform=\"scale(0.015625)\"/>\r\n       <path d=\"M 1159 525 \r\nL 1159 -1331 \r\nL 581 -1331 \r\nL 581 3500 \r\nL 1159 3500 \r\nL 1159 2969 \r\nQ 1341 3281 1617 3432 \r\nQ 1894 3584 2278 3584 \r\nQ 2916 3584 3314 3078 \r\nQ 3713 2572 3713 1747 \r\nQ 3713 922 3314 415 \r\nQ 2916 -91 2278 -91 \r\nQ 1894 -91 1617 61 \r\nQ 1341 213 1159 525 \r\nz\r\nM 3116 1747 \r\nQ 3116 2381 2855 2742 \r\nQ 2594 3103 2138 3103 \r\nQ 1681 3103 1420 2742 \r\nQ 1159 2381 1159 1747 \r\nQ 1159 1113 1420 752 \r\nQ 1681 391 2138 391 \r\nQ 2594 391 2855 752 \r\nQ 3116 1113 3116 1747 \r\nz\r\n\" id=\"DejaVuSans-70\" transform=\"scale(0.015625)\"/>\r\n       <path d=\"M 2834 3397 \r\nL 2834 2853 \r\nQ 2591 2978 2328 3040 \r\nQ 2066 3103 1784 3103 \r\nQ 1356 3103 1142 2972 \r\nQ 928 2841 928 2578 \r\nQ 928 2378 1081 2264 \r\nQ 1234 2150 1697 2047 \r\nL 1894 2003 \r\nQ 2506 1872 2764 1633 \r\nQ 3022 1394 3022 966 \r\nQ 3022 478 2636 193 \r\nQ 2250 -91 1575 -91 \r\nQ 1294 -91 989 -36 \r\nQ 684 19 347 128 \r\nL 347 722 \r\nQ 666 556 975 473 \r\nQ 1284 391 1588 391 \r\nQ 1994 391 2212 530 \r\nQ 2431 669 2431 922 \r\nQ 2431 1156 2273 1281 \r\nQ 2116 1406 1581 1522 \r\nL 1381 1569 \r\nQ 847 1681 609 1914 \r\nQ 372 2147 372 2553 \r\nQ 372 3047 722 3315 \r\nQ 1072 3584 1716 3584 \r\nQ 2034 3584 2315 3537 \r\nQ 2597 3491 2834 3397 \r\nz\r\n\" id=\"DejaVuSans-73\" transform=\"scale(0.015625)\"/>\r\n      </defs>\r\n      <use xlink:href=\"#DejaVuSans-54\"/>\r\n      <use x=\"44.083984\" xlink:href=\"#DejaVuSans-65\"/>\r\n      <use x=\"105.607422\" xlink:href=\"#DejaVuSans-6d\"/>\r\n      <use x=\"203.019531\" xlink:href=\"#DejaVuSans-70\"/>\r\n      <use x=\"266.496094\" xlink:href=\"#DejaVuSans-73\"/>\r\n     </g>\r\n    </g>\r\n   </g>\r\n   <g id=\"matplotlib.axis_2\">\r\n    <g id=\"ytick_1\">\r\n     <g id=\"line2d_8\">\r\n      <defs>\r\n       <path d=\"M 0 0 \r\nL -3.5 0 \r\n\" id=\"mfa3bf2d876\" style=\"stroke:#000000;stroke-width:0.8;\"/>\r\n      </defs>\r\n      <g>\r\n       <use style=\"stroke:#000000;stroke-width:0.8;\" x=\"58.523438\" xlink:href=\"#mfa3bf2d876\" y=\"230.354489\"/>\r\n      </g>\r\n     </g>\r\n     <g id=\"text_9\">\r\n      <!-- −1.00 -->\r\n      <g transform=\"translate(20.878125 234.153707)scale(0.1 -0.1)\">\r\n       <defs>\r\n        <path d=\"M 684 794 \r\nL 1344 794 \r\nL 1344 0 \r\nL 684 0 \r\nL 684 794 \r\nz\r\n\" id=\"DejaVuSans-2e\" transform=\"scale(0.015625)\"/>\r\n       </defs>\r\n       <use xlink:href=\"#DejaVuSans-2212\"/>\r\n       <use x=\"83.789062\" xlink:href=\"#DejaVuSans-31\"/>\r\n       <use x=\"147.412109\" xlink:href=\"#DejaVuSans-2e\"/>\r\n       <use x=\"179.199219\" xlink:href=\"#DejaVuSans-30\"/>\r\n       <use x=\"242.822266\" xlink:href=\"#DejaVuSans-30\"/>\r\n      </g>\r\n     </g>\r\n    </g>\r\n    <g id=\"ytick_2\">\r\n     <g id=\"line2d_9\">\r\n      <g>\r\n       <use style=\"stroke:#000000;stroke-width:0.8;\" x=\"58.523438\" xlink:href=\"#mfa3bf2d876\" y=\"205.643843\"/>\r\n      </g>\r\n     </g>\r\n     <g id=\"text_10\">\r\n      <!-- −0.75 -->\r\n      <g transform=\"translate(20.878125 209.443061)scale(0.1 -0.1)\">\r\n       <defs>\r\n        <path d=\"M 525 4666 \r\nL 3525 4666 \r\nL 3525 4397 \r\nL 1831 0 \r\nL 1172 0 \r\nL 2766 4134 \r\nL 525 4134 \r\nL 525 4666 \r\nz\r\n\" id=\"DejaVuSans-37\" transform=\"scale(0.015625)\"/>\r\n        <path d=\"M 691 4666 \r\nL 3169 4666 \r\nL 3169 4134 \r\nL 1269 4134 \r\nL 1269 2991 \r\nQ 1406 3038 1543 3061 \r\nQ 1681 3084 1819 3084 \r\nQ 2600 3084 3056 2656 \r\nQ 3513 2228 3513 1497 \r\nQ 3513 744 3044 326 \r\nQ 2575 -91 1722 -91 \r\nQ 1428 -91 1123 -41 \r\nQ 819 9 494 109 \r\nL 494 744 \r\nQ 775 591 1075 516 \r\nQ 1375 441 1709 441 \r\nQ 2250 441 2565 725 \r\nQ 2881 1009 2881 1497 \r\nQ 2881 1984 2565 2268 \r\nQ 2250 2553 1709 2553 \r\nQ 1456 2553 1204 2497 \r\nQ 953 2441 691 2322 \r\nL 691 4666 \r\nz\r\n\" id=\"DejaVuSans-35\" transform=\"scale(0.015625)\"/>\r\n       </defs>\r\n       <use xlink:href=\"#DejaVuSans-2212\"/>\r\n       <use x=\"83.789062\" xlink:href=\"#DejaVuSans-30\"/>\r\n       <use x=\"147.412109\" xlink:href=\"#DejaVuSans-2e\"/>\r\n       <use x=\"179.199219\" xlink:href=\"#DejaVuSans-37\"/>\r\n       <use x=\"242.822266\" xlink:href=\"#DejaVuSans-35\"/>\r\n      </g>\r\n     </g>\r\n    </g>\r\n    <g id=\"ytick_3\">\r\n     <g id=\"line2d_10\">\r\n      <g>\r\n       <use style=\"stroke:#000000;stroke-width:0.8;\" x=\"58.523438\" xlink:href=\"#mfa3bf2d876\" y=\"180.933196\"/>\r\n      </g>\r\n     </g>\r\n     <g id=\"text_11\">\r\n      <!-- −0.50 -->\r\n      <g transform=\"translate(20.878125 184.732415)scale(0.1 -0.1)\">\r\n       <use xlink:href=\"#DejaVuSans-2212\"/>\r\n       <use x=\"83.789062\" xlink:href=\"#DejaVuSans-30\"/>\r\n       <use x=\"147.412109\" xlink:href=\"#DejaVuSans-2e\"/>\r\n       <use x=\"179.199219\" xlink:href=\"#DejaVuSans-35\"/>\r\n       <use x=\"242.822266\" xlink:href=\"#DejaVuSans-30\"/>\r\n      </g>\r\n     </g>\r\n    </g>\r\n    <g id=\"ytick_4\">\r\n     <g id=\"line2d_11\">\r\n      <g>\r\n       <use style=\"stroke:#000000;stroke-width:0.8;\" x=\"58.523438\" xlink:href=\"#mfa3bf2d876\" y=\"156.22255\"/>\r\n      </g>\r\n     </g>\r\n     <g id=\"text_12\">\r\n      <!-- −0.25 -->\r\n      <g transform=\"translate(20.878125 160.021769)scale(0.1 -0.1)\">\r\n       <use xlink:href=\"#DejaVuSans-2212\"/>\r\n       <use x=\"83.789062\" xlink:href=\"#DejaVuSans-30\"/>\r\n       <use x=\"147.412109\" xlink:href=\"#DejaVuSans-2e\"/>\r\n       <use x=\"179.199219\" xlink:href=\"#DejaVuSans-32\"/>\r\n       <use x=\"242.822266\" xlink:href=\"#DejaVuSans-35\"/>\r\n      </g>\r\n     </g>\r\n    </g>\r\n    <g id=\"ytick_5\">\r\n     <g id=\"line2d_12\">\r\n      <g>\r\n       <use style=\"stroke:#000000;stroke-width:0.8;\" x=\"58.523438\" xlink:href=\"#mfa3bf2d876\" y=\"131.511904\"/>\r\n      </g>\r\n     </g>\r\n     <g id=\"text_13\">\r\n      <!-- 0.00 -->\r\n      <g transform=\"translate(29.257813 135.311123)scale(0.1 -0.1)\">\r\n       <use xlink:href=\"#DejaVuSans-30\"/>\r\n       <use x=\"63.623047\" xlink:href=\"#DejaVuSans-2e\"/>\r\n       <use x=\"95.410156\" xlink:href=\"#DejaVuSans-30\"/>\r\n       <use x=\"159.033203\" xlink:href=\"#DejaVuSans-30\"/>\r\n      </g>\r\n     </g>\r\n    </g>\r\n    <g id=\"ytick_6\">\r\n     <g id=\"line2d_13\">\r\n      <g>\r\n       <use style=\"stroke:#000000;stroke-width:0.8;\" x=\"58.523438\" xlink:href=\"#mfa3bf2d876\" y=\"106.801258\"/>\r\n      </g>\r\n     </g>\r\n     <g id=\"text_14\">\r\n      <!-- 0.25 -->\r\n      <g transform=\"translate(29.257813 110.600477)scale(0.1 -0.1)\">\r\n       <use xlink:href=\"#DejaVuSans-30\"/>\r\n       <use x=\"63.623047\" xlink:href=\"#DejaVuSans-2e\"/>\r\n       <use x=\"95.410156\" xlink:href=\"#DejaVuSans-32\"/>\r\n       <use x=\"159.033203\" xlink:href=\"#DejaVuSans-35\"/>\r\n      </g>\r\n     </g>\r\n    </g>\r\n    <g id=\"ytick_7\">\r\n     <g id=\"line2d_14\">\r\n      <g>\r\n       <use style=\"stroke:#000000;stroke-width:0.8;\" x=\"58.523438\" xlink:href=\"#mfa3bf2d876\" y=\"82.090612\"/>\r\n      </g>\r\n     </g>\r\n     <g id=\"text_15\">\r\n      <!-- 0.50 -->\r\n      <g transform=\"translate(29.257813 85.889831)scale(0.1 -0.1)\">\r\n       <use xlink:href=\"#DejaVuSans-30\"/>\r\n       <use x=\"63.623047\" xlink:href=\"#DejaVuSans-2e\"/>\r\n       <use x=\"95.410156\" xlink:href=\"#DejaVuSans-35\"/>\r\n       <use x=\"159.033203\" xlink:href=\"#DejaVuSans-30\"/>\r\n      </g>\r\n     </g>\r\n    </g>\r\n    <g id=\"ytick_8\">\r\n     <g id=\"line2d_15\">\r\n      <g>\r\n       <use style=\"stroke:#000000;stroke-width:0.8;\" x=\"58.523438\" xlink:href=\"#mfa3bf2d876\" y=\"57.379966\"/>\r\n      </g>\r\n     </g>\r\n     <g id=\"text_16\">\r\n      <!-- 0.75 -->\r\n      <g transform=\"translate(29.257813 61.179185)scale(0.1 -0.1)\">\r\n       <use xlink:href=\"#DejaVuSans-30\"/>\r\n       <use x=\"63.623047\" xlink:href=\"#DejaVuSans-2e\"/>\r\n       <use x=\"95.410156\" xlink:href=\"#DejaVuSans-37\"/>\r\n       <use x=\"159.033203\" xlink:href=\"#DejaVuSans-35\"/>\r\n      </g>\r\n     </g>\r\n    </g>\r\n    <g id=\"ytick_9\">\r\n     <g id=\"line2d_16\">\r\n      <g>\r\n       <use style=\"stroke:#000000;stroke-width:0.8;\" x=\"58.523438\" xlink:href=\"#mfa3bf2d876\" y=\"32.66932\"/>\r\n      </g>\r\n     </g>\r\n     <g id=\"text_17\">\r\n      <!-- 1.00 -->\r\n      <g transform=\"translate(29.257813 36.468539)scale(0.1 -0.1)\">\r\n       <use xlink:href=\"#DejaVuSans-31\"/>\r\n       <use x=\"63.623047\" xlink:href=\"#DejaVuSans-2e\"/>\r\n       <use x=\"95.410156\" xlink:href=\"#DejaVuSans-30\"/>\r\n       <use x=\"159.033203\" xlink:href=\"#DejaVuSans-30\"/>\r\n      </g>\r\n     </g>\r\n    </g>\r\n    <g id=\"text_18\">\r\n     <!-- Valeurs des fontions -->\r\n     <g transform=\"translate(14.798438 182.113438)rotate(-90)scale(0.1 -0.1)\">\r\n      <defs>\r\n       <path d=\"M 1831 0 \r\nL 50 4666 \r\nL 709 4666 \r\nL 2188 738 \r\nL 3669 4666 \r\nL 4325 4666 \r\nL 2547 0 \r\nL 1831 0 \r\nz\r\n\" id=\"DejaVuSans-56\" transform=\"scale(0.015625)\"/>\r\n       <path d=\"M 2194 1759 \r\nQ 1497 1759 1228 1600 \r\nQ 959 1441 959 1056 \r\nQ 959 750 1161 570 \r\nQ 1363 391 1709 391 \r\nQ 2188 391 2477 730 \r\nQ 2766 1069 2766 1631 \r\nL 2766 1759 \r\nL 2194 1759 \r\nz\r\nM 3341 1997 \r\nL 3341 0 \r\nL 2766 0 \r\nL 2766 531 \r\nQ 2569 213 2275 61 \r\nQ 1981 -91 1556 -91 \r\nQ 1019 -91 701 211 \r\nQ 384 513 384 1019 \r\nQ 384 1609 779 1909 \r\nQ 1175 2209 1959 2209 \r\nL 2766 2209 \r\nL 2766 2266 \r\nQ 2766 2663 2505 2880 \r\nQ 2244 3097 1772 3097 \r\nQ 1472 3097 1187 3025 \r\nQ 903 2953 641 2809 \r\nL 641 3341 \r\nQ 956 3463 1253 3523 \r\nQ 1550 3584 1831 3584 \r\nQ 2591 3584 2966 3190 \r\nQ 3341 2797 3341 1997 \r\nz\r\n\" id=\"DejaVuSans-61\" transform=\"scale(0.015625)\"/>\r\n       <path d=\"M 603 4863 \r\nL 1178 4863 \r\nL 1178 0 \r\nL 603 0 \r\nL 603 4863 \r\nz\r\n\" id=\"DejaVuSans-6c\" transform=\"scale(0.015625)\"/>\r\n       <path d=\"M 544 1381 \r\nL 544 3500 \r\nL 1119 3500 \r\nL 1119 1403 \r\nQ 1119 906 1312 657 \r\nQ 1506 409 1894 409 \r\nQ 2359 409 2629 706 \r\nQ 2900 1003 2900 1516 \r\nL 2900 3500 \r\nL 3475 3500 \r\nL 3475 0 \r\nL 2900 0 \r\nL 2900 538 \r\nQ 2691 219 2414 64 \r\nQ 2138 -91 1772 -91 \r\nQ 1169 -91 856 284 \r\nQ 544 659 544 1381 \r\nz\r\nM 1991 3584 \r\nL 1991 3584 \r\nz\r\n\" id=\"DejaVuSans-75\" transform=\"scale(0.015625)\"/>\r\n       <path d=\"M 2631 2963 \r\nQ 2534 3019 2420 3045 \r\nQ 2306 3072 2169 3072 \r\nQ 1681 3072 1420 2755 \r\nQ 1159 2438 1159 1844 \r\nL 1159 0 \r\nL 581 0 \r\nL 581 3500 \r\nL 1159 3500 \r\nL 1159 2956 \r\nQ 1341 3275 1631 3429 \r\nQ 1922 3584 2338 3584 \r\nQ 2397 3584 2469 3576 \r\nQ 2541 3569 2628 3553 \r\nL 2631 2963 \r\nz\r\n\" id=\"DejaVuSans-72\" transform=\"scale(0.015625)\"/>\r\n       <path id=\"DejaVuSans-20\" transform=\"scale(0.015625)\"/>\r\n       <path d=\"M 2906 2969 \r\nL 2906 4863 \r\nL 3481 4863 \r\nL 3481 0 \r\nL 2906 0 \r\nL 2906 525 \r\nQ 2725 213 2448 61 \r\nQ 2172 -91 1784 -91 \r\nQ 1150 -91 751 415 \r\nQ 353 922 353 1747 \r\nQ 353 2572 751 3078 \r\nQ 1150 3584 1784 3584 \r\nQ 2172 3584 2448 3432 \r\nQ 2725 3281 2906 2969 \r\nz\r\nM 947 1747 \r\nQ 947 1113 1208 752 \r\nQ 1469 391 1925 391 \r\nQ 2381 391 2643 752 \r\nQ 2906 1113 2906 1747 \r\nQ 2906 2381 2643 2742 \r\nQ 2381 3103 1925 3103 \r\nQ 1469 3103 1208 2742 \r\nQ 947 2381 947 1747 \r\nz\r\n\" id=\"DejaVuSans-64\" transform=\"scale(0.015625)\"/>\r\n       <path d=\"M 2375 4863 \r\nL 2375 4384 \r\nL 1825 4384 \r\nQ 1516 4384 1395 4259 \r\nQ 1275 4134 1275 3809 \r\nL 1275 3500 \r\nL 2222 3500 \r\nL 2222 3053 \r\nL 1275 3053 \r\nL 1275 0 \r\nL 697 0 \r\nL 697 3053 \r\nL 147 3053 \r\nL 147 3500 \r\nL 697 3500 \r\nL 697 3744 \r\nQ 697 4328 969 4595 \r\nQ 1241 4863 1831 4863 \r\nL 2375 4863 \r\nz\r\n\" id=\"DejaVuSans-66\" transform=\"scale(0.015625)\"/>\r\n       <path d=\"M 1959 3097 \r\nQ 1497 3097 1228 2736 \r\nQ 959 2375 959 1747 \r\nQ 959 1119 1226 758 \r\nQ 1494 397 1959 397 \r\nQ 2419 397 2687 759 \r\nQ 2956 1122 2956 1747 \r\nQ 2956 2369 2687 2733 \r\nQ 2419 3097 1959 3097 \r\nz\r\nM 1959 3584 \r\nQ 2709 3584 3137 3096 \r\nQ 3566 2609 3566 1747 \r\nQ 3566 888 3137 398 \r\nQ 2709 -91 1959 -91 \r\nQ 1206 -91 779 398 \r\nQ 353 888 353 1747 \r\nQ 353 2609 779 3096 \r\nQ 1206 3584 1959 3584 \r\nz\r\n\" id=\"DejaVuSans-6f\" transform=\"scale(0.015625)\"/>\r\n       <path d=\"M 3513 2113 \r\nL 3513 0 \r\nL 2938 0 \r\nL 2938 2094 \r\nQ 2938 2591 2744 2837 \r\nQ 2550 3084 2163 3084 \r\nQ 1697 3084 1428 2787 \r\nQ 1159 2491 1159 1978 \r\nL 1159 0 \r\nL 581 0 \r\nL 581 3500 \r\nL 1159 3500 \r\nL 1159 2956 \r\nQ 1366 3272 1645 3428 \r\nQ 1925 3584 2291 3584 \r\nQ 2894 3584 3203 3211 \r\nQ 3513 2838 3513 2113 \r\nz\r\n\" id=\"DejaVuSans-6e\" transform=\"scale(0.015625)\"/>\r\n       <path d=\"M 1172 4494 \r\nL 1172 3500 \r\nL 2356 3500 \r\nL 2356 3053 \r\nL 1172 3053 \r\nL 1172 1153 \r\nQ 1172 725 1289 603 \r\nQ 1406 481 1766 481 \r\nL 2356 481 \r\nL 2356 0 \r\nL 1766 0 \r\nQ 1100 0 847 248 \r\nQ 594 497 594 1153 \r\nL 594 3053 \r\nL 172 3053 \r\nL 172 3500 \r\nL 594 3500 \r\nL 594 4494 \r\nL 1172 4494 \r\nz\r\n\" id=\"DejaVuSans-74\" transform=\"scale(0.015625)\"/>\r\n       <path d=\"M 603 3500 \r\nL 1178 3500 \r\nL 1178 0 \r\nL 603 0 \r\nL 603 3500 \r\nz\r\nM 603 4863 \r\nL 1178 4863 \r\nL 1178 4134 \r\nL 603 4134 \r\nL 603 4863 \r\nz\r\n\" id=\"DejaVuSans-69\" transform=\"scale(0.015625)\"/>\r\n      </defs>\r\n      <use xlink:href=\"#DejaVuSans-56\"/>\r\n      <use x=\"60.658203\" xlink:href=\"#DejaVuSans-61\"/>\r\n      <use x=\"121.9375\" xlink:href=\"#DejaVuSans-6c\"/>\r\n      <use x=\"149.720703\" xlink:href=\"#DejaVuSans-65\"/>\r\n      <use x=\"211.244141\" xlink:href=\"#DejaVuSans-75\"/>\r\n      <use x=\"274.623047\" xlink:href=\"#DejaVuSans-72\"/>\r\n      <use x=\"315.736328\" xlink:href=\"#DejaVuSans-73\"/>\r\n      <use x=\"367.835938\" xlink:href=\"#DejaVuSans-20\"/>\r\n      <use x=\"399.623047\" xlink:href=\"#DejaVuSans-64\"/>\r\n      <use x=\"463.099609\" xlink:href=\"#DejaVuSans-65\"/>\r\n      <use x=\"524.623047\" xlink:href=\"#DejaVuSans-73\"/>\r\n      <use x=\"576.722656\" xlink:href=\"#DejaVuSans-20\"/>\r\n      <use x=\"608.509766\" xlink:href=\"#DejaVuSans-66\"/>\r\n      <use x=\"643.714844\" xlink:href=\"#DejaVuSans-6f\"/>\r\n      <use x=\"704.896484\" xlink:href=\"#DejaVuSans-6e\"/>\r\n      <use x=\"768.275391\" xlink:href=\"#DejaVuSans-74\"/>\r\n      <use x=\"807.484375\" xlink:href=\"#DejaVuSans-69\"/>\r\n      <use x=\"835.267578\" xlink:href=\"#DejaVuSans-6f\"/>\r\n      <use x=\"896.449219\" xlink:href=\"#DejaVuSans-6e\"/>\r\n      <use x=\"959.828125\" xlink:href=\"#DejaVuSans-73\"/>\r\n     </g>\r\n    </g>\r\n   </g>\r\n   <g id=\"line2d_17\">\r\n    <path clip-path=\"url(#p48f4c32ba3)\" d=\"M 73.741619 131.511904 \r\nL 76.815999 137.780888 \r\nL 79.89038 144.02463 \r\nL 82.96476 150.217986 \r\nL 86.03914 156.33602 \r\nL 89.11352 162.354096 \r\nL 92.1879 168.247982 \r\nL 95.26228 173.993944 \r\nL 98.336661 179.568846 \r\nL 101.411041 184.95024 \r\nL 104.485421 190.116456 \r\nL 107.559801 195.046693 \r\nL 110.634181 199.721097 \r\nL 113.708561 204.120847 \r\nL 116.782942 208.228227 \r\nL 119.857322 212.026697 \r\nL 122.931702 215.500962 \r\nL 126.006082 218.637033 \r\nL 129.080462 221.422282 \r\nL 132.154842 223.845493 \r\nL 135.229223 225.89691 \r\nL 138.303603 227.568271 \r\nL 141.377983 228.852848 \r\nL 144.452363 229.745467 \r\nL 147.526743 230.242534 \r\nL 150.601123 230.342047 \r\nL 153.675504 230.043607 \r\nL 156.749884 229.348414 \r\nL 159.824264 228.259268 \r\nL 162.898644 226.780554 \r\nL 165.973024 224.918227 \r\nL 169.047404 222.679786 \r\nL 172.121785 220.074244 \r\nL 175.196165 217.112093 \r\nL 178.270545 213.80526 \r\nL 181.344925 210.167061 \r\nL 184.419305 206.212145 \r\nL 187.493685 201.956438 \r\nL 190.568066 197.417075 \r\nL 193.642446 192.612336 \r\nL 196.716826 187.561567 \r\nL 199.791206 182.285105 \r\nL 202.865586 176.804198 \r\nL 205.939966 171.140915 \r\nL 209.014347 165.318059 \r\nL 212.088727 159.359078 \r\nL 215.163107 153.287967 \r\nL 218.237487 147.129171 \r\nL 221.311867 140.907489 \r\nL 224.386247 134.647975 \r\nL 227.460628 128.375833 \r\nL 230.535008 122.116319 \r\nL 233.609388 115.894638 \r\nL 236.683768 109.735842 \r\nL 239.758148 103.66473 \r\nL 242.832528 97.705749 \r\nL 245.906909 91.882894 \r\nL 248.981289 86.219611 \r\nL 252.055669 80.738703 \r\nL 255.130049 75.462242 \r\nL 258.204429 70.411472 \r\nL 261.278809 65.606733 \r\nL 264.35319 61.06737 \r\nL 267.42757 56.811663 \r\nL 270.50195 52.856747 \r\nL 273.57633 49.218548 \r\nL 276.65071 45.911715 \r\nL 279.72509 42.949564 \r\nL 282.799471 40.344022 \r\nL 285.873851 38.105581 \r\nL 288.948231 36.243254 \r\nL 292.022611 34.764541 \r\nL 295.096991 33.675395 \r\nL 298.171371 32.980202 \r\nL 301.245752 32.681761 \r\nL 304.320132 32.781275 \r\nL 307.394512 33.278342 \r\nL 310.468892 34.170961 \r\nL 313.543272 35.455537 \r\nL 316.617652 37.126899 \r\nL 319.692033 39.178315 \r\nL 322.766413 41.601527 \r\nL 325.840793 44.386776 \r\nL 328.915173 47.522847 \r\nL 331.989553 50.997112 \r\nL 335.063933 54.795582 \r\nL 338.138314 58.902961 \r\nL 341.212694 63.302711 \r\nL 344.287074 67.977116 \r\nL 347.361454 72.907352 \r\nL 350.435834 78.073569 \r\nL 353.510214 83.454962 \r\nL 356.584595 89.029864 \r\nL 359.658975 94.775827 \r\nL 362.733355 100.669712 \r\nL 365.807735 106.687788 \r\nL 368.882115 112.805822 \r\nL 371.956495 118.999179 \r\nL 375.030876 125.24292 \r\nL 378.105256 131.511904 \r\n\" style=\"fill:none;stroke:#ff0000;stroke-linecap:square;stroke-width:1.5;\"/>\r\n   </g>\r\n   <g id=\"line2d_18\">\r\n    <path clip-path=\"url(#p48f4c32ba3)\" d=\"M 73.741619 230.354489 \r\nL 76.815999 230.155487 \r\nL 79.89038 229.559282 \r\nL 82.96476 228.568274 \r\nL 86.03914 227.186455 \r\nL 89.11352 225.419389 \r\nL 92.1879 223.27419 \r\nL 95.26228 220.759497 \r\nL 98.336661 217.885435 \r\nL 101.411041 214.663578 \r\nL 104.485421 211.106898 \r\nL 107.559801 207.229717 \r\nL 110.634181 203.047647 \r\nL 113.708561 198.577528 \r\nL 116.782942 193.837359 \r\nL 119.857322 188.846228 \r\nL 122.931702 183.624232 \r\nL 126.006082 178.192398 \r\nL 129.080462 172.572598 \r\nL 132.154842 166.787461 \r\nL 135.229223 160.860281 \r\nL 138.303603 154.814927 \r\nL 141.377983 148.675739 \r\nL 144.452363 142.467438 \r\nL 147.526743 136.215024 \r\nL 150.601123 129.943671 \r\nL 153.675504 123.678634 \r\nL 156.749884 117.445138 \r\nL 159.824264 111.268284 \r\nL 162.898644 105.172944 \r\nL 165.973024 99.183661 \r\nL 169.047404 93.324554 \r\nL 172.121785 87.619213 \r\nL 175.196165 82.090612 \r\nL 178.270545 76.761014 \r\nL 181.344925 71.651878 \r\nL 184.419305 66.783777 \r\nL 187.493685 62.176313 \r\nL 190.568066 57.84804 \r\nL 193.642446 53.816385 \r\nL 196.716826 50.097582 \r\nL 199.791206 46.706606 \r\nL 202.865586 43.657111 \r\nL 205.939966 40.961377 \r\nL 209.014347 38.630257 \r\nL 212.088727 36.673139 \r\nL 215.163107 35.097903 \r\nL 218.237487 33.910893 \r\nL 221.311867 33.116887 \r\nL 224.386247 32.719083 \r\nL 227.460628 32.719083 \r\nL 230.535008 33.116887 \r\nL 233.609388 33.910893 \r\nL 236.683768 35.097903 \r\nL 239.758148 36.673139 \r\nL 242.832528 38.630257 \r\nL 245.906909 40.961377 \r\nL 248.981289 43.657111 \r\nL 252.055669 46.706606 \r\nL 255.130049 50.097582 \r\nL 258.204429 53.816385 \r\nL 261.278809 57.84804 \r\nL 264.35319 62.176313 \r\nL 267.42757 66.783777 \r\nL 270.50195 71.651878 \r\nL 273.57633 76.761014 \r\nL 276.65071 82.090612 \r\nL 279.72509 87.619213 \r\nL 282.799471 93.324554 \r\nL 285.873851 99.183661 \r\nL 288.948231 105.172944 \r\nL 292.022611 111.268284 \r\nL 295.096991 117.445138 \r\nL 298.171371 123.678634 \r\nL 301.245752 129.943671 \r\nL 304.320132 136.215024 \r\nL 307.394512 142.467438 \r\nL 310.468892 148.675739 \r\nL 313.543272 154.814927 \r\nL 316.617652 160.860281 \r\nL 319.692033 166.787461 \r\nL 322.766413 172.572598 \r\nL 325.840793 178.192398 \r\nL 328.915173 183.624232 \r\nL 331.989553 188.846228 \r\nL 335.063933 193.837359 \r\nL 338.138314 198.577528 \r\nL 341.212694 203.047647 \r\nL 344.287074 207.229717 \r\nL 347.361454 211.106898 \r\nL 350.435834 214.663578 \r\nL 353.510214 217.885435 \r\nL 356.584595 220.759497 \r\nL 359.658975 223.27419 \r\nL 362.733355 225.419389 \r\nL 365.807735 227.186455 \r\nL 368.882115 228.568274 \r\nL 371.956495 229.559282 \r\nL 375.030876 230.155487 \r\nL 378.105256 230.354489 \r\n\" style=\"fill:none;stroke:#008000;stroke-linecap:square;stroke-width:1.5;\"/>\r\n   </g>\r\n   <g id=\"patch_3\">\r\n    <path d=\"M 58.523438 240.238125 \r\nL 58.523438 22.798125 \r\n\" style=\"fill:none;stroke:#000000;stroke-linecap:square;stroke-linejoin:miter;stroke-width:0.8;\"/>\r\n   </g>\r\n   <g id=\"patch_4\">\r\n    <path d=\"M 393.323438 240.238125 \r\nL 393.323438 22.798125 \r\n\" style=\"fill:none;stroke:#000000;stroke-linecap:square;stroke-linejoin:miter;stroke-width:0.8;\"/>\r\n   </g>\r\n   <g id=\"patch_5\">\r\n    <path d=\"M 58.523438 240.238125 \r\nL 393.323438 240.238125 \r\n\" style=\"fill:none;stroke:#000000;stroke-linecap:square;stroke-linejoin:miter;stroke-width:0.8;\"/>\r\n   </g>\r\n   <g id=\"patch_6\">\r\n    <path d=\"M 58.523438 22.798125 \r\nL 393.323438 22.798125 \r\n\" style=\"fill:none;stroke:#000000;stroke-linecap:square;stroke-linejoin:miter;stroke-width:0.8;\"/>\r\n   </g>\r\n   <g id=\"text_19\">\r\n    <!-- Fonctions trigonométriques -->\r\n    <g transform=\"translate(143.50125 16.798125)scale(0.12 -0.12)\">\r\n     <defs>\r\n      <path d=\"M 628 4666 \r\nL 3309 4666 \r\nL 3309 4134 \r\nL 1259 4134 \r\nL 1259 2759 \r\nL 3109 2759 \r\nL 3109 2228 \r\nL 1259 2228 \r\nL 1259 0 \r\nL 628 0 \r\nL 628 4666 \r\nz\r\n\" id=\"DejaVuSans-46\" transform=\"scale(0.015625)\"/>\r\n      <path d=\"M 3122 3366 \r\nL 3122 2828 \r\nQ 2878 2963 2633 3030 \r\nQ 2388 3097 2138 3097 \r\nQ 1578 3097 1268 2742 \r\nQ 959 2388 959 1747 \r\nQ 959 1106 1268 751 \r\nQ 1578 397 2138 397 \r\nQ 2388 397 2633 464 \r\nQ 2878 531 3122 666 \r\nL 3122 134 \r\nQ 2881 22 2623 -34 \r\nQ 2366 -91 2075 -91 \r\nQ 1284 -91 818 406 \r\nQ 353 903 353 1747 \r\nQ 353 2603 823 3093 \r\nQ 1294 3584 2113 3584 \r\nQ 2378 3584 2631 3529 \r\nQ 2884 3475 3122 3366 \r\nz\r\n\" id=\"DejaVuSans-63\" transform=\"scale(0.015625)\"/>\r\n      <path d=\"M 2906 1791 \r\nQ 2906 2416 2648 2759 \r\nQ 2391 3103 1925 3103 \r\nQ 1463 3103 1205 2759 \r\nQ 947 2416 947 1791 \r\nQ 947 1169 1205 825 \r\nQ 1463 481 1925 481 \r\nQ 2391 481 2648 825 \r\nQ 2906 1169 2906 1791 \r\nz\r\nM 3481 434 \r\nQ 3481 -459 3084 -895 \r\nQ 2688 -1331 1869 -1331 \r\nQ 1566 -1331 1297 -1286 \r\nQ 1028 -1241 775 -1147 \r\nL 775 -588 \r\nQ 1028 -725 1275 -790 \r\nQ 1522 -856 1778 -856 \r\nQ 2344 -856 2625 -561 \r\nQ 2906 -266 2906 331 \r\nL 2906 616 \r\nQ 2728 306 2450 153 \r\nQ 2172 0 1784 0 \r\nQ 1141 0 747 490 \r\nQ 353 981 353 1791 \r\nQ 353 2603 747 3093 \r\nQ 1141 3584 1784 3584 \r\nQ 2172 3584 2450 3431 \r\nQ 2728 3278 2906 2969 \r\nL 2906 3500 \r\nL 3481 3500 \r\nL 3481 434 \r\nz\r\n\" id=\"DejaVuSans-67\" transform=\"scale(0.015625)\"/>\r\n      <path d=\"M 3597 1894 \r\nL 3597 1613 \r\nL 953 1613 \r\nQ 991 1019 1311 708 \r\nQ 1631 397 2203 397 \r\nQ 2534 397 2845 478 \r\nQ 3156 559 3463 722 \r\nL 3463 178 \r\nQ 3153 47 2828 -22 \r\nQ 2503 -91 2169 -91 \r\nQ 1331 -91 842 396 \r\nQ 353 884 353 1716 \r\nQ 353 2575 817 3079 \r\nQ 1281 3584 2069 3584 \r\nQ 2775 3584 3186 3129 \r\nQ 3597 2675 3597 1894 \r\nz\r\nM 3022 2063 \r\nQ 3016 2534 2758 2815 \r\nQ 2500 3097 2075 3097 \r\nQ 1594 3097 1305 2825 \r\nQ 1016 2553 972 2059 \r\nL 3022 2063 \r\nz\r\nM 2466 5119 \r\nL 3088 5119 \r\nL 2070 3944 \r\nL 1591 3944 \r\nL 2466 5119 \r\nz\r\n\" id=\"DejaVuSans-e9\" transform=\"scale(0.015625)\"/>\r\n      <path d=\"M 947 1747 \r\nQ 947 1113 1208 752 \r\nQ 1469 391 1925 391 \r\nQ 2381 391 2643 752 \r\nQ 2906 1113 2906 1747 \r\nQ 2906 2381 2643 2742 \r\nQ 2381 3103 1925 3103 \r\nQ 1469 3103 1208 2742 \r\nQ 947 2381 947 1747 \r\nz\r\nM 2906 525 \r\nQ 2725 213 2448 61 \r\nQ 2172 -91 1784 -91 \r\nQ 1150 -91 751 415 \r\nQ 353 922 353 1747 \r\nQ 353 2572 751 3078 \r\nQ 1150 3584 1784 3584 \r\nQ 2172 3584 2448 3432 \r\nQ 2725 3281 2906 2969 \r\nL 2906 3500 \r\nL 3481 3500 \r\nL 3481 -1331 \r\nL 2906 -1331 \r\nL 2906 525 \r\nz\r\n\" id=\"DejaVuSans-71\" transform=\"scale(0.015625)\"/>\r\n     </defs>\r\n     <use xlink:href=\"#DejaVuSans-46\"/>\r\n     <use x=\"53.894531\" xlink:href=\"#DejaVuSans-6f\"/>\r\n     <use x=\"115.076172\" xlink:href=\"#DejaVuSans-6e\"/>\r\n     <use x=\"178.455078\" xlink:href=\"#DejaVuSans-63\"/>\r\n     <use x=\"233.435547\" xlink:href=\"#DejaVuSans-74\"/>\r\n     <use x=\"272.644531\" xlink:href=\"#DejaVuSans-69\"/>\r\n     <use x=\"300.427734\" xlink:href=\"#DejaVuSans-6f\"/>\r\n     <use x=\"361.609375\" xlink:href=\"#DejaVuSans-6e\"/>\r\n     <use x=\"424.988281\" xlink:href=\"#DejaVuSans-73\"/>\r\n     <use x=\"477.087891\" xlink:href=\"#DejaVuSans-20\"/>\r\n     <use x=\"508.875\" xlink:href=\"#DejaVuSans-74\"/>\r\n     <use x=\"548.083984\" xlink:href=\"#DejaVuSans-72\"/>\r\n     <use x=\"589.197266\" xlink:href=\"#DejaVuSans-69\"/>\r\n     <use x=\"616.980469\" xlink:href=\"#DejaVuSans-67\"/>\r\n     <use x=\"680.457031\" xlink:href=\"#DejaVuSans-6f\"/>\r\n     <use x=\"741.638672\" xlink:href=\"#DejaVuSans-6e\"/>\r\n     <use x=\"805.017578\" xlink:href=\"#DejaVuSans-6f\"/>\r\n     <use x=\"866.199219\" xlink:href=\"#DejaVuSans-6d\"/>\r\n     <use x=\"963.611328\" xlink:href=\"#DejaVuSans-e9\"/>\r\n     <use x=\"1025.134766\" xlink:href=\"#DejaVuSans-74\"/>\r\n     <use x=\"1064.34375\" xlink:href=\"#DejaVuSans-72\"/>\r\n     <use x=\"1105.457031\" xlink:href=\"#DejaVuSans-69\"/>\r\n     <use x=\"1133.240234\" xlink:href=\"#DejaVuSans-71\"/>\r\n     <use x=\"1196.716797\" xlink:href=\"#DejaVuSans-75\"/>\r\n     <use x=\"1260.095703\" xlink:href=\"#DejaVuSans-65\"/>\r\n     <use x=\"1321.619141\" xlink:href=\"#DejaVuSans-73\"/>\r\n    </g>\r\n   </g>\r\n   <g id=\"legend_1\">\r\n    <g id=\"patch_7\">\r\n     <path d=\"M 65.523438 60.154375 \r\nL 136.496875 60.154375 \r\nQ 138.496875 60.154375 138.496875 58.154375 \r\nL 138.496875 29.798125 \r\nQ 138.496875 27.798125 136.496875 27.798125 \r\nL 65.523438 27.798125 \r\nQ 63.523438 27.798125 63.523438 29.798125 \r\nL 63.523438 58.154375 \r\nQ 63.523438 60.154375 65.523438 60.154375 \r\nz\r\n\" style=\"fill:#ffffff;opacity:0.8;stroke:#cccccc;stroke-linejoin:miter;\"/>\r\n    </g>\r\n    <g id=\"line2d_19\">\r\n     <path d=\"M 67.523438 35.896562 \r\nL 87.523438 35.896562 \r\n\" style=\"fill:none;stroke:#ff0000;stroke-linecap:square;stroke-width:1.5;\"/>\r\n    </g>\r\n    <g id=\"line2d_20\"/>\r\n    <g id=\"text_20\">\r\n     <!-- Sinus -->\r\n     <g transform=\"translate(95.523438 39.396562)scale(0.1 -0.1)\">\r\n      <defs>\r\n       <path d=\"M 3425 4513 \r\nL 3425 3897 \r\nQ 3066 4069 2747 4153 \r\nQ 2428 4238 2131 4238 \r\nQ 1616 4238 1336 4038 \r\nQ 1056 3838 1056 3469 \r\nQ 1056 3159 1242 3001 \r\nQ 1428 2844 1947 2747 \r\nL 2328 2669 \r\nQ 3034 2534 3370 2195 \r\nQ 3706 1856 3706 1288 \r\nQ 3706 609 3251 259 \r\nQ 2797 -91 1919 -91 \r\nQ 1588 -91 1214 -16 \r\nQ 841 59 441 206 \r\nL 441 856 \r\nQ 825 641 1194 531 \r\nQ 1563 422 1919 422 \r\nQ 2459 422 2753 634 \r\nQ 3047 847 3047 1241 \r\nQ 3047 1584 2836 1778 \r\nQ 2625 1972 2144 2069 \r\nL 1759 2144 \r\nQ 1053 2284 737 2584 \r\nQ 422 2884 422 3419 \r\nQ 422 4038 858 4394 \r\nQ 1294 4750 2059 4750 \r\nQ 2388 4750 2728 4690 \r\nQ 3069 4631 3425 4513 \r\nz\r\n\" id=\"DejaVuSans-53\" transform=\"scale(0.015625)\"/>\r\n      </defs>\r\n      <use xlink:href=\"#DejaVuSans-53\"/>\r\n      <use x=\"63.476562\" xlink:href=\"#DejaVuSans-69\"/>\r\n      <use x=\"91.259766\" xlink:href=\"#DejaVuSans-6e\"/>\r\n      <use x=\"154.638672\" xlink:href=\"#DejaVuSans-75\"/>\r\n      <use x=\"218.017578\" xlink:href=\"#DejaVuSans-73\"/>\r\n     </g>\r\n    </g>\r\n    <g id=\"line2d_21\">\r\n     <path d=\"M 67.523438 50.574687 \r\nL 87.523438 50.574687 \r\n\" style=\"fill:none;stroke:#008000;stroke-linecap:square;stroke-width:1.5;\"/>\r\n    </g>\r\n    <g id=\"line2d_22\"/>\r\n    <g id=\"text_21\">\r\n     <!-- Cosinus -->\r\n     <g transform=\"translate(95.523438 54.074687)scale(0.1 -0.1)\">\r\n      <defs>\r\n       <path d=\"M 4122 4306 \r\nL 4122 3641 \r\nQ 3803 3938 3442 4084 \r\nQ 3081 4231 2675 4231 \r\nQ 1875 4231 1450 3742 \r\nQ 1025 3253 1025 2328 \r\nQ 1025 1406 1450 917 \r\nQ 1875 428 2675 428 \r\nQ 3081 428 3442 575 \r\nQ 3803 722 4122 1019 \r\nL 4122 359 \r\nQ 3791 134 3420 21 \r\nQ 3050 -91 2638 -91 \r\nQ 1578 -91 968 557 \r\nQ 359 1206 359 2328 \r\nQ 359 3453 968 4101 \r\nQ 1578 4750 2638 4750 \r\nQ 3056 4750 3426 4639 \r\nQ 3797 4528 4122 4306 \r\nz\r\n\" id=\"DejaVuSans-43\" transform=\"scale(0.015625)\"/>\r\n      </defs>\r\n      <use xlink:href=\"#DejaVuSans-43\"/>\r\n      <use x=\"69.824219\" xlink:href=\"#DejaVuSans-6f\"/>\r\n      <use x=\"131.005859\" xlink:href=\"#DejaVuSans-73\"/>\r\n      <use x=\"183.105469\" xlink:href=\"#DejaVuSans-69\"/>\r\n      <use x=\"210.888672\" xlink:href=\"#DejaVuSans-6e\"/>\r\n      <use x=\"274.267578\" xlink:href=\"#DejaVuSans-75\"/>\r\n      <use x=\"337.646484\" xlink:href=\"#DejaVuSans-73\"/>\r\n     </g>\r\n    </g>\r\n   </g>\r\n  </g>\r\n </g>\r\n <defs>\r\n  <clipPath id=\"p48f4c32ba3\">\r\n   <rect height=\"217.44\" width=\"334.8\" x=\"58.523438\" y=\"22.798125\"/>\r\n  </clipPath>\r\n </defs>\r\n</svg>\r\n",
      "image/png": "[encoded data removed]"
     },
     "metadata": {
      "needs_background": "light"
     }
    }
   ],
   "source": [
    "figure(figsize=(6,4)) #on choisit la taille de la figure\n",
    "t = linspace(-pi,pi,100) # on subdivise l'axe des abscisses entre -pi et pi en 100 points équidistants\n",
    "plot(t,sin(t), color='red', label='Sinus')\n",
    "plot(t,cos(t), color='green', label='Cosinus')\n",
    "legend()\n",
    "title('Fonctions trigonométriques')\n",
    "xlabel('Temps')\n",
    "ylabel('Valeurs des fontions')\n",
    "show()"
   ]
  },
  {
   "cell_type": "markdown",
   "metadata": {},
   "source": [
    "# Ex 0 : Bac à sable pour les données 'jouet'"
   ]
  },
  {
   "cell_type": "code",
   "execution_count": 8,
   "metadata": {},
   "outputs": [
    {
     "output_type": "stream",
     "name": "stdout",
     "text": [
      "Matrice des données : \n [[12 16 14]\n [14 13 15]\n [ 8 11  8]\n [10  9  6]\n [16  6 17]] \n\nCoordonnées du point d'alice :  [12 16 14]\nCoordonnées du vecteur 'Info' :  [12 14  8 10 16] \n\nMoyenne info =  12.0\nMoyenne gestion =  11.0\nMoyenne maths =  12.0\nMoyenne pour chaque matière, ou centre de gravité :  [12. 11. 12.]\nMoyenne de toutes les notes :  12.0 \n\nVariance info =  8.0\nVariance gestion =  12.0\nVariance maths =  18.0\nVariance pour chaque matière :  [ 8. 12. 18.]\nVariance de toutes les notes :  13.0 \n\nEcart type info =  3.0\nEcart type gestion =  3.0\nEcart type maths =  4.0\nEcart type pour chaque matière :  [3. 3. 4.]\nEcart type de toutes les notes :  4.0 \n\nDonnées centrées et réduites : \n [[ 0.  1.  0.]\n [ 1.  1.  1.]\n [-1.  0. -1.]\n [-1. -1. -1.]\n [ 1. -1.  1.]] \n\nMoyenne de chaque colonne de Z :  [ 0. -0.  0.]\nVariance de chaque colonne de Z :  [1. 1. 1.] \n\nTransposée de Z : \n [[ 0.          0.70710678 -1.41421356 -0.70710678  1.41421356]\n [ 1.46805055  0.58722022  0.         -0.58722022 -1.46805055]\n [ 0.47140452  0.70710678 -0.94280904 -1.41421356  1.1785113 ]] \n\nCovariance d'info et gestion :  -2.4000000000000057\nCorrélation d'info et gestion :  -0.24913643956122047 \n\nMatrice de corrélation : \n [[ 1.         -0.24913644  0.9       ]\n [-0.24913644  1.          0.04152274]\n [ 0.9         0.04152274  1.        ]]\n"
     ]
    }
   ],
   "source": [
    "# à vous d'écrire ici les instructions nécessaires \n",
    "# pour obtenir les réponses aux questions du poly \n",
    "X = array([[12, 16, 14], [14, 13, 15], [8, 11, 8], [10, 9, 6], [16, 6, 17]])\n",
    "print(\"Matrice des données : \\n\", X, '\\n')\n",
    "print(\"Coordonnées du point d'alice : \", X[0,:])\n",
    "print(\"Coordonnées du vecteur 'Info' : \", X[:,0], '\\n')\n",
    "print(\"Moyenne info = \", around(mean(X[:,0])))\n",
    "print(\"Moyenne gestion = \", around(mean(X[:,1])))\n",
    "print(\"Moyenne maths = \", around(mean(X[:,2])))\n",
    "print(\"Moyenne pour chaque matière, ou centre de gravité : \", around(mean(X, axis=0)))\n",
    "print(\"Moyenne de toutes les notes : \", around(mean(X)), '\\n')\n",
    "print(\"Variance info = \", around(var(X[:,0])))\n",
    "print(\"Variance gestion = \", around(var(X[:,1])))\n",
    "print(\"Variance maths = \", around(var(X[:,2])))\n",
    "print(\"Variance pour chaque matière : \", around(var(X, axis=0)))\n",
    "print(\"Variance de toutes les notes : \", around(var(X)), '\\n')\n",
    "print(\"Ecart type info = \", around(sqrt(var(X[:,0]))))\n",
    "print(\"Ecart type gestion = \", around(sqrt(var(X[:,1]))))\n",
    "print(\"Ecart type maths = \", around(sqrt(var(X[:,2]))))\n",
    "print(\"Ecart type pour chaque matière : \", around(sqrt(var(X, axis=0))))\n",
    "print(\"Ecart type de toutes les notes : \", around(sqrt(var(X))), '\\n')\n",
    "\n",
    "Z = zeros((5,3))\n",
    "\n",
    "for j in range(3) :\n",
    "    Z[:,j] = (X[:,j] - mean(X[:,j])) / sqrt(var(X[:,j]))\n",
    "\n",
    "print(\"Données centrées et réduites : \\n\", around(Z), '\\n')\n",
    "print(\"Moyenne de chaque colonne de Z : \", around(mean(Z, axis = 0)))\n",
    "print(\"Variance de chaque colonne de Z : \", around(var(Z, axis = 0)), '\\n')\n",
    "\n",
    "print(\"Transposée de Z : \\n\", Z.T, '\\n')\n",
    "\n",
    "print(\"Covariance d'info et gestion : \", (1/5) * dot(X[:,0].T, X[:,1]) - (mean(X[:,0]) * mean(X[:,1])))\n",
    "\n",
    "print(\"Corrélation d'info et gestion : \", ((1/5) * dot(X[:,0].T, X[:,1]) - (mean(X[:,0]) * mean(X[:,1]))) / (sqrt(var(X[:,0])) * sqrt(var(X[:,1]))), '\\n')\n",
    "\n",
    "print(\"Matrice de corrélation : \\n\", 1/5 * dot(Z.T, Z))"
   ]
  },
  {
   "source": [
    "# Ex 1 : Import et manipulation de données \n",
    "\n",
    "Un tableau de données est un objet appelé DataFrame sous Pandas. Nous allons utiliser quelques opérations de Pandas : importer un tableau excel, afficher les premières lignes du DataFrame, convertir le DataFrame en array pour pouvoir ensuite travailler avec NumPy.\n",
    "\n",
    "Dans le fichier ''pib-mondial-par-annee.xls'', vous trouverez pour chaque année de 1965 à 2017 la consommation d'énergie primaire mondiale et le PIB mondial. Sources : https://data.worldbank.org/ pour le PIB mondial\n",
    "et https://www.bp.com/en/global/corporate/energy-economics/statistical-review-of-world-energy.html pour la consommation d'énergie."
   ],
   "cell_type": "code",
   "metadata": {},
   "execution_count": 12,
   "outputs": [
    {
     "output_type": "error",
     "ename": "SyntaxError",
     "evalue": "invalid syntax (<ipython-input-12-ae967c315d21>, line 3)",
     "traceback": [
      "\u001b[1;36m  File \u001b[1;32m\"<ipython-input-12-ae967c315d21>\"\u001b[1;36m, line \u001b[1;32m3\u001b[0m\n\u001b[1;33m    Un tableau de données est un objet appelé DataFrame sous Pandas. Nous allons utiliser quelques opérations de Pandas : importer un tableau excel, afficher les premières lignes du DataFrame, convertir le DataFrame en array pour pouvoir ensuite travailler avec NumPy.\u001b[0m\n\u001b[1;37m       ^\u001b[0m\n\u001b[1;31mSyntaxError\u001b[0m\u001b[1;31m:\u001b[0m invalid syntax\n"
     ]
    }
   ]
  },
  {
   "cell_type": "code",
   "execution_count": 10,
   "metadata": {},
   "outputs": [
    {
     "output_type": "error",
     "ename": "FileNotFoundError",
     "evalue": "[Errno 2] No such file or directory: 'pib-mondial-par-annee.xls'",
     "traceback": [
      "\u001b[1;31m---------------------------------------------------------------------------\u001b[0m",
      "\u001b[1;31mFileNotFoundError\u001b[0m                         Traceback (most recent call last)",
      "\u001b[1;32m<ipython-input-10-533b6b475a7f>\u001b[0m in \u001b[0;36m<module>\u001b[1;34m\u001b[0m\n\u001b[0;32m      1\u001b[0m \u001b[1;31m# importation d'un tableau excel\u001b[0m\u001b[1;33m\u001b[0m\u001b[1;33m\u001b[0m\u001b[1;33m\u001b[0m\u001b[0m\n\u001b[1;32m----> 2\u001b[1;33m \u001b[0mdf\u001b[0m \u001b[1;33m=\u001b[0m \u001b[0mread_excel\u001b[0m\u001b[1;33m(\u001b[0m\u001b[1;34m'pib-mondial-par-annee.xls'\u001b[0m\u001b[1;33m)\u001b[0m\u001b[1;33m\u001b[0m\u001b[1;33m\u001b[0m\u001b[0m\n\u001b[0m\u001b[0;32m      3\u001b[0m \u001b[1;31m# le tableur excel est converti en un objet DataFrame\u001b[0m\u001b[1;33m\u001b[0m\u001b[1;33m\u001b[0m\u001b[1;33m\u001b[0m\u001b[0m\n\u001b[0;32m      4\u001b[0m \u001b[0mtype\u001b[0m\u001b[1;33m(\u001b[0m\u001b[0mdf\u001b[0m\u001b[1;33m)\u001b[0m\u001b[1;33m\u001b[0m\u001b[1;33m\u001b[0m\u001b[0m\n\u001b[0;32m      5\u001b[0m \u001b[1;31m# affichage des premières lignes du DataFrame\u001b[0m\u001b[1;33m\u001b[0m\u001b[1;33m\u001b[0m\u001b[1;33m\u001b[0m\u001b[0m\n",
      "\u001b[1;32m~\\AppData\\Local\\Programs\\Python\\Python39\\lib\\site-packages\\pandas\\util\\_decorators.py\u001b[0m in \u001b[0;36mwrapper\u001b[1;34m(*args, **kwargs)\u001b[0m\n\u001b[0;32m    297\u001b[0m                 )\n\u001b[0;32m    298\u001b[0m                 \u001b[0mwarnings\u001b[0m\u001b[1;33m.\u001b[0m\u001b[0mwarn\u001b[0m\u001b[1;33m(\u001b[0m\u001b[0mmsg\u001b[0m\u001b[1;33m,\u001b[0m \u001b[0mFutureWarning\u001b[0m\u001b[1;33m,\u001b[0m \u001b[0mstacklevel\u001b[0m\u001b[1;33m=\u001b[0m\u001b[0mstacklevel\u001b[0m\u001b[1;33m)\u001b[0m\u001b[1;33m\u001b[0m\u001b[1;33m\u001b[0m\u001b[0m\n\u001b[1;32m--> 299\u001b[1;33m             \u001b[1;32mreturn\u001b[0m \u001b[0mfunc\u001b[0m\u001b[1;33m(\u001b[0m\u001b[1;33m*\u001b[0m\u001b[0margs\u001b[0m\u001b[1;33m,\u001b[0m \u001b[1;33m**\u001b[0m\u001b[0mkwargs\u001b[0m\u001b[1;33m)\u001b[0m\u001b[1;33m\u001b[0m\u001b[1;33m\u001b[0m\u001b[0m\n\u001b[0m\u001b[0;32m    300\u001b[0m \u001b[1;33m\u001b[0m\u001b[0m\n\u001b[0;32m    301\u001b[0m         \u001b[1;32mreturn\u001b[0m \u001b[0mwrapper\u001b[0m\u001b[1;33m\u001b[0m\u001b[1;33m\u001b[0m\u001b[0m\n",
      "\u001b[1;32m~\\AppData\\Local\\Programs\\Python\\Python39\\lib\\site-packages\\pandas\\io\\excel\\_base.py\u001b[0m in \u001b[0;36mread_excel\u001b[1;34m(io, sheet_name, header, names, index_col, usecols, squeeze, dtype, engine, converters, true_values, false_values, skiprows, nrows, na_values, keep_default_na, na_filter, verbose, parse_dates, date_parser, thousands, comment, skipfooter, convert_float, mangle_dupe_cols, storage_options)\u001b[0m\n\u001b[0;32m    334\u001b[0m     \u001b[1;32mif\u001b[0m \u001b[1;32mnot\u001b[0m \u001b[0misinstance\u001b[0m\u001b[1;33m(\u001b[0m\u001b[0mio\u001b[0m\u001b[1;33m,\u001b[0m \u001b[0mExcelFile\u001b[0m\u001b[1;33m)\u001b[0m\u001b[1;33m:\u001b[0m\u001b[1;33m\u001b[0m\u001b[1;33m\u001b[0m\u001b[0m\n\u001b[0;32m    335\u001b[0m         \u001b[0mshould_close\u001b[0m \u001b[1;33m=\u001b[0m \u001b[1;32mTrue\u001b[0m\u001b[1;33m\u001b[0m\u001b[1;33m\u001b[0m\u001b[0m\n\u001b[1;32m--> 336\u001b[1;33m         \u001b[0mio\u001b[0m \u001b[1;33m=\u001b[0m \u001b[0mExcelFile\u001b[0m\u001b[1;33m(\u001b[0m\u001b[0mio\u001b[0m\u001b[1;33m,\u001b[0m \u001b[0mstorage_options\u001b[0m\u001b[1;33m=\u001b[0m\u001b[0mstorage_options\u001b[0m\u001b[1;33m,\u001b[0m \u001b[0mengine\u001b[0m\u001b[1;33m=\u001b[0m\u001b[0mengine\u001b[0m\u001b[1;33m)\u001b[0m\u001b[1;33m\u001b[0m\u001b[1;33m\u001b[0m\u001b[0m\n\u001b[0m\u001b[0;32m    337\u001b[0m     \u001b[1;32melif\u001b[0m \u001b[0mengine\u001b[0m \u001b[1;32mand\u001b[0m \u001b[0mengine\u001b[0m \u001b[1;33m!=\u001b[0m \u001b[0mio\u001b[0m\u001b[1;33m.\u001b[0m\u001b[0mengine\u001b[0m\u001b[1;33m:\u001b[0m\u001b[1;33m\u001b[0m\u001b[1;33m\u001b[0m\u001b[0m\n\u001b[0;32m    338\u001b[0m         raise ValueError(\n",
      "\u001b[1;32m~\\AppData\\Local\\Programs\\Python\\Python39\\lib\\site-packages\\pandas\\io\\excel\\_base.py\u001b[0m in \u001b[0;36m__init__\u001b[1;34m(self, path_or_buffer, engine, storage_options)\u001b[0m\n\u001b[0;32m   1069\u001b[0m                 \u001b[0mext\u001b[0m \u001b[1;33m=\u001b[0m \u001b[1;34m\"xls\"\u001b[0m\u001b[1;33m\u001b[0m\u001b[1;33m\u001b[0m\u001b[0m\n\u001b[0;32m   1070\u001b[0m             \u001b[1;32melse\u001b[0m\u001b[1;33m:\u001b[0m\u001b[1;33m\u001b[0m\u001b[1;33m\u001b[0m\u001b[0m\n\u001b[1;32m-> 1071\u001b[1;33m                 ext = inspect_excel_format(\n\u001b[0m\u001b[0;32m   1072\u001b[0m                     \u001b[0mcontent\u001b[0m\u001b[1;33m=\u001b[0m\u001b[0mpath_or_buffer\u001b[0m\u001b[1;33m,\u001b[0m \u001b[0mstorage_options\u001b[0m\u001b[1;33m=\u001b[0m\u001b[0mstorage_options\u001b[0m\u001b[1;33m\u001b[0m\u001b[1;33m\u001b[0m\u001b[0m\n\u001b[0;32m   1073\u001b[0m                 )\n",
      "\u001b[1;32m~\\AppData\\Local\\Programs\\Python\\Python39\\lib\\site-packages\\pandas\\io\\excel\\_base.py\u001b[0m in \u001b[0;36minspect_excel_format\u001b[1;34m(path, content, storage_options)\u001b[0m\n\u001b[0;32m    947\u001b[0m     \u001b[1;32massert\u001b[0m \u001b[0mcontent_or_path\u001b[0m \u001b[1;32mis\u001b[0m \u001b[1;32mnot\u001b[0m \u001b[1;32mNone\u001b[0m\u001b[1;33m\u001b[0m\u001b[1;33m\u001b[0m\u001b[0m\n\u001b[0;32m    948\u001b[0m \u001b[1;33m\u001b[0m\u001b[0m\n\u001b[1;32m--> 949\u001b[1;33m     with get_handle(\n\u001b[0m\u001b[0;32m    950\u001b[0m         \u001b[0mcontent_or_path\u001b[0m\u001b[1;33m,\u001b[0m \u001b[1;34m\"rb\"\u001b[0m\u001b[1;33m,\u001b[0m \u001b[0mstorage_options\u001b[0m\u001b[1;33m=\u001b[0m\u001b[0mstorage_options\u001b[0m\u001b[1;33m,\u001b[0m \u001b[0mis_text\u001b[0m\u001b[1;33m=\u001b[0m\u001b[1;32mFalse\u001b[0m\u001b[1;33m\u001b[0m\u001b[1;33m\u001b[0m\u001b[0m\n\u001b[0;32m    951\u001b[0m     ) as handle:\n",
      "\u001b[1;32m~\\AppData\\Local\\Programs\\Python\\Python39\\lib\\site-packages\\pandas\\io\\common.py\u001b[0m in \u001b[0;36mget_handle\u001b[1;34m(path_or_buf, mode, encoding, compression, memory_map, is_text, errors, storage_options)\u001b[0m\n\u001b[0;32m    649\u001b[0m         \u001b[1;32melse\u001b[0m\u001b[1;33m:\u001b[0m\u001b[1;33m\u001b[0m\u001b[1;33m\u001b[0m\u001b[0m\n\u001b[0;32m    650\u001b[0m             \u001b[1;31m# Binary mode\u001b[0m\u001b[1;33m\u001b[0m\u001b[1;33m\u001b[0m\u001b[1;33m\u001b[0m\u001b[0m\n\u001b[1;32m--> 651\u001b[1;33m             \u001b[0mhandle\u001b[0m \u001b[1;33m=\u001b[0m \u001b[0mopen\u001b[0m\u001b[1;33m(\u001b[0m\u001b[0mhandle\u001b[0m\u001b[1;33m,\u001b[0m \u001b[0mioargs\u001b[0m\u001b[1;33m.\u001b[0m\u001b[0mmode\u001b[0m\u001b[1;33m)\u001b[0m\u001b[1;33m\u001b[0m\u001b[1;33m\u001b[0m\u001b[0m\n\u001b[0m\u001b[0;32m    652\u001b[0m         \u001b[0mhandles\u001b[0m\u001b[1;33m.\u001b[0m\u001b[0mappend\u001b[0m\u001b[1;33m(\u001b[0m\u001b[0mhandle\u001b[0m\u001b[1;33m)\u001b[0m\u001b[1;33m\u001b[0m\u001b[1;33m\u001b[0m\u001b[0m\n\u001b[0;32m    653\u001b[0m \u001b[1;33m\u001b[0m\u001b[0m\n",
      "\u001b[1;31mFileNotFoundError\u001b[0m: [Errno 2] No such file or directory: 'pib-mondial-par-annee.xls'"
     ]
    }
   ],
   "source": [
    "# importation d'un tableau excel\n",
    "df = read_excel('pib-mondial-par-annee.xls')\n",
    "# le tableur excel est converti en un objet DataFrame\n",
    "type(df)\n",
    "# affichage des premières lignes du DataFrame\n",
    "df.head()"
   ]
  },
  {
   "cell_type": "code",
   "execution_count": null,
   "metadata": {},
   "outputs": [],
   "source": [
    "# on ne garde que les valeurs du tableau\n",
    "data = df.values\n",
    "# data est maintenant un array\n",
    "type(data)"
   ]
  },
  {
   "cell_type": "markdown",
   "metadata": {},
   "source": [
    "**Question 1** : Tracez en fonction des années le PIB mondial en rouge et la consommation d'énergie primaire en bleu. On multipliera le PIB par un facteur $10^{-10}$ pour que les deux courbes soient lisibles sur un même graphique."
   ]
  },
  {
   "cell_type": "code",
   "execution_count": 4,
   "metadata": {},
   "outputs": [
    {
     "output_type": "error",
     "ename": "NameError",
     "evalue": "name 'data' is not defined",
     "traceback": [
      "\u001b[1;31m---------------------------------------------------------------------------\u001b[0m",
      "\u001b[1;31mNameError\u001b[0m                                 Traceback (most recent call last)",
      "\u001b[1;32m<ipython-input-4-7b7e50cd3d34>\u001b[0m in \u001b[0;36m<module>\u001b[1;34m\u001b[0m\n\u001b[0;32m      1\u001b[0m \u001b[0mfigure\u001b[0m\u001b[1;33m(\u001b[0m\u001b[0mfigsize\u001b[0m\u001b[1;33m=\u001b[0m\u001b[1;33m(\u001b[0m\u001b[1;36m10\u001b[0m\u001b[1;33m,\u001b[0m\u001b[1;36m10\u001b[0m\u001b[1;33m)\u001b[0m\u001b[1;33m)\u001b[0m \u001b[1;31m#on choisit la taille de la figure\u001b[0m\u001b[1;33m\u001b[0m\u001b[1;33m\u001b[0m\u001b[0m\n\u001b[0;32m      2\u001b[0m \u001b[1;31m#t = linspace(data[0,0],data[-1,0],53)\u001b[0m\u001b[1;33m\u001b[0m\u001b[1;33m\u001b[0m\u001b[1;33m\u001b[0m\u001b[0m\n\u001b[1;32m----> 3\u001b[1;33m \u001b[0mt\u001b[0m \u001b[1;33m=\u001b[0m \u001b[0mdata\u001b[0m\u001b[1;33m[\u001b[0m\u001b[1;33m:\u001b[0m\u001b[1;33m,\u001b[0m\u001b[1;36m0\u001b[0m\u001b[1;33m]\u001b[0m\u001b[1;33m\u001b[0m\u001b[1;33m\u001b[0m\u001b[0m\n\u001b[0m\u001b[0;32m      4\u001b[0m \u001b[0mplot\u001b[0m\u001b[1;33m(\u001b[0m\u001b[0mt\u001b[0m\u001b[1;33m,\u001b[0m\u001b[0mdata\u001b[0m\u001b[1;33m[\u001b[0m\u001b[1;33m:\u001b[0m\u001b[1;33m,\u001b[0m\u001b[1;36m1\u001b[0m\u001b[1;33m]\u001b[0m\u001b[1;33m*\u001b[0m\u001b[1;36m10\u001b[0m\u001b[1;33m**\u001b[0m\u001b[1;33m(\u001b[0m\u001b[1;33m-\u001b[0m\u001b[1;36m10\u001b[0m\u001b[1;33m)\u001b[0m\u001b[1;33m,\u001b[0m \u001b[0mcolor\u001b[0m\u001b[1;33m=\u001b[0m\u001b[1;34m'red'\u001b[0m\u001b[1;33m,\u001b[0m \u001b[0mlabel\u001b[0m\u001b[1;33m=\u001b[0m\u001b[1;34m'PIB'\u001b[0m\u001b[1;33m)\u001b[0m\u001b[1;33m\u001b[0m\u001b[1;33m\u001b[0m\u001b[0m\n\u001b[0;32m      5\u001b[0m \u001b[0mplot\u001b[0m\u001b[1;33m(\u001b[0m\u001b[0mt\u001b[0m\u001b[1;33m,\u001b[0m\u001b[0mdata\u001b[0m\u001b[1;33m[\u001b[0m\u001b[1;33m:\u001b[0m\u001b[1;33m,\u001b[0m\u001b[1;36m2\u001b[0m\u001b[1;33m]\u001b[0m\u001b[1;33m,\u001b[0m \u001b[0mcolor\u001b[0m\u001b[1;33m=\u001b[0m\u001b[1;34m'blue'\u001b[0m\u001b[1;33m,\u001b[0m \u001b[0mlabel\u001b[0m\u001b[1;33m=\u001b[0m\u001b[1;34m'Consommation d energie primaire'\u001b[0m\u001b[1;33m)\u001b[0m\u001b[1;33m\u001b[0m\u001b[1;33m\u001b[0m\u001b[0m\n",
      "\u001b[1;31mNameError\u001b[0m: name 'data' is not defined"
     ]
    }
   ],
   "source": [
    "figure(figsize=(10,10)) #on choisit la taille de la figure\n",
    "#t = linspace(data[0,0],data[-1,0],53)\n",
    "t = data[:,0]\n",
    "plot(t,data[:,1]*10**(-10), color='red', label='PIB')\n",
    "plot(t,data[:,2], color='blue', label='Consommation d energie primaire')\n",
    "legend()\n",
    "title('pib et conso d energie')\n",
    "xlabel('Années')\n",
    "show()"
   ]
  },
  {
   "cell_type": "markdown",
   "metadata": {},
   "source": [
    "**Question 2 :** Représentez chaque année par un point dans le plan ayant pour abscisse l'énergie et pour ordonnée le PIB.\n",
    "\n",
    "*Pour tracer des points sans les relier, on pourra utiliser la commande `scatter`.*"
   ]
  },
  {
   "cell_type": "code",
   "execution_count": null,
   "metadata": {},
   "outputs": [],
   "source": [
    "scatter(data[:,2], data[:,1])\n",
    "show()"
   ]
  },
  {
   "cell_type": "markdown",
   "metadata": {},
   "source": [
    "**Question :** Que remarque-t-on ? Peut-on, à partir de ce graphe, conclure à un lien de causalité entre le PIB et l'énergie ou inversement ?"
   ]
  },
  {
   "cell_type": "code",
   "execution_count": null,
   "metadata": {},
   "outputs": [],
   "source": [
    "\"pas specialement\""
   ]
  },
  {
   "cell_type": "markdown",
   "metadata": {},
   "source": [
    "# Ex 2 : Prix d'un appartement"
   ]
  },
  {
   "cell_type": "markdown",
   "metadata": {},
   "source": [
    "Nous avons relevé sur le site `seloger.com` les prix et les surfaces de dix appartements du 16ème arrondissement de Paris :\n",
    "\n",
    "-surfaces (en $m^2$) : $(77,94,89,135,172,106,196,110,284,285)$\n",
    "\n",
    "-prix (en milliers d'euros) : $(624,895,1160,1629,1715,1845,2349,2580,3610,5775)$"
   ]
  },
  {
   "cell_type": "markdown",
   "metadata": {},
   "source": [
    "**Question 1.** On note $X$ la variable aléatoire de la surface d'un appartement et $Y$ celle de son prix.\n",
    "Représenter les $10$ réalisations de $X$ et $Y$ sous la forme de deux vecteurs colonnes $x$ et $y$. Aidez-vous de ce qui a déjà été saisi !"
   ]
  },
  {
   "cell_type": "code",
   "execution_count": null,
   "metadata": {},
   "outputs": [],
   "source": [
    "x=array([[77,94,89,135,172,106,196,110,284,285]])\n",
    "y=array([[624,895,1160,1629,1715,1845,2349,2580,3610,5775]])\n"
   ]
  },
  {
   "cell_type": "markdown",
   "metadata": {},
   "source": [
    "**Question 2.** Représenter chaque appartement par un point dans le repère d'abscisse surfaces et d'ordonnée prix. Cet ensemble de points est appelé le nuage points-individus."
   ]
  },
  {
   "cell_type": "code",
   "execution_count": null,
   "metadata": {},
   "outputs": [],
   "source": []
  },
  {
   "cell_type": "markdown",
   "metadata": {},
   "source": [
    "**Question 3.** Calculer les moyennes de $X$ et de $Y$, notées `mx` et `my`, en utilisant la commande `mean`. Représenter sur le graphique précédent le centre de gravité G du nuage; ce point a pour coordonnées (mx,my). "
   ]
  },
  {
   "cell_type": "code",
   "execution_count": null,
   "metadata": {},
   "outputs": [],
   "source": []
  },
  {
   "cell_type": "markdown",
   "metadata": {},
   "source": [
    "**Question 4.** Calculer la variance de $X$ et la variance de $Y$, notées `vx` et `vy` en utilisant la commande `var`. En déduire l'écart-type de $X$ et l'écart-type de $Y$, notés `sx` et `sy`. Recalculer les écarts-types de $X$ et $Y$ en utilisant la commande `std` et comparer."
   ]
  },
  {
   "cell_type": "code",
   "execution_count": null,
   "metadata": {},
   "outputs": [],
   "source": []
  },
  {
   "cell_type": "markdown",
   "metadata": {},
   "source": [
    "**Question 5.** Calculer la covariance entre $X$ et $Y$, notée `sxy`. Recalculer ensuite cette covariance en utilisant la commande `cov(x,y)`, puis en utilisant la commande `cov(x,y,rowvar =False,bias=True)`. Comparer."
   ]
  },
  {
   "cell_type": "code",
   "execution_count": null,
   "metadata": {},
   "outputs": [],
   "source": []
  },
  {
   "cell_type": "markdown",
   "metadata": {},
   "source": [
    "**Question 6.** Déduire des questions précédentes le coefficient de corrélation entre $X$ et $Y$, noté `rxy`. Recalculer ensuite ce coefficient de corrélation en utilisant la commande `corrcoef(x,y,rowvar =False)` et comparer."
   ]
  },
  {
   "cell_type": "code",
   "execution_count": null,
   "metadata": {},
   "outputs": [],
   "source": []
  },
  {
   "cell_type": "markdown",
   "metadata": {},
   "source": [
    "**Question 7.** Donner l'équation de la droite de régression de $Y$ en fonction de $X$.\n",
    "\n",
    "*Pour extraire la valeur numérique d'un array `A` de format $1\\times 1$, on peut utiliser `A[0,0]`.*"
   ]
  },
  {
   "cell_type": "code",
   "execution_count": null,
   "metadata": {},
   "outputs": [],
   "source": []
  },
  {
   "cell_type": "markdown",
   "metadata": {},
   "source": [
    "**Question 8.** Sur un même graphique, représenter le nuage de points-individus en bleu, le centre de gravité en noir et la droite de régression en rouge. Nommer les axes, la droite, le centre de gravité et le graphique."
   ]
  },
  {
   "cell_type": "code",
   "execution_count": null,
   "metadata": {},
   "outputs": [],
   "source": []
  },
  {
   "cell_type": "markdown",
   "metadata": {},
   "source": [
    "**Question 9**. Prédire le prix d'un appartement de $40~m^2$. "
   ]
  },
  {
   "cell_type": "code",
   "execution_count": null,
   "metadata": {},
   "outputs": [],
   "source": []
  },
  {
   "cell_type": "markdown",
   "metadata": {},
   "source": [
    "# Exercice 2 (Régression clef en main)"
   ]
  },
  {
   "cell_type": "markdown",
   "metadata": {},
   "source": [
    "**Question 1**. Construire une fonction `cov` qui renvoie la covariance entre deux vecteurs colonnes de données $x$ et $y$. **Testez** votre fonction avant de continuer !"
   ]
  },
  {
   "cell_type": "code",
   "execution_count": null,
   "metadata": {},
   "outputs": [],
   "source": []
  },
  {
   "cell_type": "markdown",
   "metadata": {},
   "source": [
    "**Question 2.** Construire une fonction `reg` qui prend en entrée deux vecteurs de données $x$ et $y$ et renvoie les paramètres $a,b$ de la droite des moindres carrés de $y$ en fonction de $x$. **Testez** votre fonction avant de continuer !"
   ]
  },
  {
   "cell_type": "code",
   "execution_count": null,
   "metadata": {},
   "outputs": [],
   "source": []
  },
  {
   "cell_type": "markdown",
   "metadata": {},
   "source": [
    "**Question 3**. Construire une fonction `affiche_reg` qui prend en entrée $x$ et $y$ et affiche le nuage de points avec le centre de gravité et la droite de régression. On utilisera des couleurs différentes pour le nuage de points et la régression. \n",
    "**Testez** votre fonction avant de continuer !"
   ]
  },
  {
   "cell_type": "code",
   "execution_count": null,
   "metadata": {},
   "outputs": [],
   "source": []
  },
  {
   "cell_type": "markdown",
   "metadata": {},
   "source": [
    "# Exercice 3 (Données centrées réduites et matrice de corrélation)"
   ]
  },
  {
   "cell_type": "markdown",
   "metadata": {},
   "source": [
    "On dipose de la moyenne générale et des moyennes des trois UE du semestre 3 de 5 étudiants \n",
    "tirés au hasard.\n",
    "\n",
    "| Informatique  | Culture scientifique, sociale et humaine | Méthodologie et projets  | Moyenne générale|\n",
    "|---|---|---|---|\n",
    "| 10.83  | 12.43  |  14.88 |  12.28 |\n",
    "|  12.22 | 13.69  | 11.92  |  12.75 |\n",
    "| 9.84  | 10.88  | 15.38  |  11.36 |\n",
    "|  12.81 | 12.12  | 15.21  |  13.02 |\n",
    "| 10.31  |  10.88 | 16.42  |  11.76 |\n",
    "\n",
    "**ATTENTION :** ici l'échantillon de taille 5 est trop petit pour que l'on puisse généraliser \n",
    "nos observations à toute une promo. Nous avons choisi cette taille pour que l'exercice soit plus visuel."
   ]
  },
  {
   "cell_type": "markdown",
   "metadata": {},
   "source": [
    "On représente ce tableau de données sous la forme d'une matrice M (en ligne les individus, en colonne les caractères)."
   ]
  },
  {
   "cell_type": "code",
   "execution_count": null,
   "metadata": {},
   "outputs": [],
   "source": [
    "M = array([[10.83,12.43 ,14.88 ,12.28],\n",
    "          [12.22 ,13.69 ,11.92,12.75],\n",
    "          [9.84 ,10.88 ,15.38 ,11.36],\n",
    "          [12.81 ,12.12 ,15.21 ,13.02],\n",
    "          [10.31 ,10.88 ,16.42 ,11.76]])\n",
    "print(M)"
   ]
  },
  {
   "cell_type": "markdown",
   "metadata": {},
   "source": [
    "**Question 1.** A partir de la matrice `M` des données, stocker dans la variable `n` le nombre d'individus et dans la variable `p` le nombre de variables. Calculer le vecteur `Moy` (de longueur `p`) qui contient la moyenne de chacune des variables ainsi que le vecteur `var` qui contient le variance de chacune des variables. \n",
    "\n",
    "*On pourra utiliser la commande `mean(M,axis=0)` qui calcule le vecteur contenant les moyennes de chaque colonne de $M$.*"
   ]
  },
  {
   "cell_type": "code",
   "execution_count": null,
   "metadata": {},
   "outputs": [],
   "source": []
  },
  {
   "cell_type": "markdown",
   "metadata": {},
   "source": [
    "**Question 2.** Calculer la matrice centrée réduite $Z$. Vérifier que la moyenne de chaque colonne vaut $0$, et que la variance de chaque colonne vaut $1$. "
   ]
  },
  {
   "cell_type": "code",
   "execution_count": null,
   "metadata": {},
   "outputs": [],
   "source": []
  },
  {
   "cell_type": "markdown",
   "metadata": {
    "collapsed": true
   },
   "source": [
    "**Question 3.** En déduire la matrice de corrélation $R$ de $M$ en utilisant la formule $R=\\frac 1n ^t\\!ZZ$. Commenter."
   ]
  },
  {
   "cell_type": "code",
   "execution_count": null,
   "metadata": {},
   "outputs": [],
   "source": []
  },
  {
   "cell_type": "markdown",
   "metadata": {},
   "source": [
    "**Question 5.** Utiliser les résultats numériques obtenus pour calculer les coefficients de la droite de régression de la moyenne générale en fonction de l'UE Informatique. Représenter sur un même graphique la droite de régression et le nuage de point des individus."
   ]
  },
  {
   "cell_type": "code",
   "execution_count": null,
   "metadata": {},
   "outputs": [],
   "source": []
  }
 ],
 "metadata": {
  "kernelspec": {
   "name": "python3",
   "display_name": "Python 3.9.0 64-bit",
   "metadata": {
    "interpreter": {
     "hash": "11e3bc8161ab6b796458d7b0073fb875b15767c94894a8c47da2c909a7b0c5b1"
    }
   }
  },
  "language_info": {
   "codemirror_mode": {
    "name": "ipython",
    "version": 3
   },
   "file_extension": ".py",
   "mimetype": "text/x-python",
   "name": "python",
   "nbconvert_exporter": "python",
   "pygments_lexer": "ipython3",
   "version": "3.9.0-final"
  }
 },
 "nbformat": 4,
 "nbformat_minor": 2
}